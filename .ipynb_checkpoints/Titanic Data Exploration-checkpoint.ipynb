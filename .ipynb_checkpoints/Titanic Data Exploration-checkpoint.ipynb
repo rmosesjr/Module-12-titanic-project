{
 "cells": [
  {
   "cell_type": "markdown",
   "id": "aa81c92e",
   "metadata": {},
   "source": [
    "## Titanic Data Exploration ##\n",
    "\n",
    "***\n",
    "\n",
    "Over the past several weeks, you've learned the code about how to explore and manipulate a dataset. Now it's time to practice what you've learned on a real-world dataset. \n",
    "\n",
    "***\n",
    "\n",
    "### Titanic Dataset\n",
    "\n",
    "The titanic dataset holds information about the passengers on the titanic. This includes passenger name, characteristics, and if they survived the accident. The dataset has the following columns:\n",
    "\n",
    "    * pclass = passenger class; 1 = first class, 2 = second class, 3 = third class\n",
    "    * survived = passenger survival; 1 = survived, 0 = did not survive\n",
    "    * name = passenger name\n",
    "    * sex = sex of passenger\n",
    "    * age = age of passenger\n",
    "    * sibsp = # of siblings / spouses aboard the Titanic\n",
    "    * parch = # of parents / children aboard the Titanic\n",
    "    * ticket = ticket number\n",
    "    * fare = fare paid by passenger\n",
    "    * cabin = passenger cabin\n",
    "    * embarked = port of embarkation; C = Cherbourg, Q = Queenstown, S = Southampton\n",
    "    * boat = lifeboat assignment \n",
    "    * body = recovered body number\n",
    "    * home dest = anticipated home destination \n",
    "    \n",
    "If you need some additional motivation before starting, please visit: https://www.youtube.com/watch?v=3gK_2XdjOdY\n",
    "\n",
    "### How to work through the dataset:\n",
    "\n",
    "Follow the prompts below to explore, manipulate, and visualize aspects of the dataset. Working with data takes time, so take your time as you start with a messy dataset and turn it into something that shows meaningful visualizations. \n",
    "\n",
    "***\n"
   ]
  },
  {
   "cell_type": "markdown",
   "id": "37d86c21",
   "metadata": {},
   "source": [
    "### Import Libraries and Dataset\n",
    "\n",
    "* Review the entire notebook to determine what you will be expected to do - then, import the necessary libraries\n",
    "* Import the titanic.xlsx dataset"
   ]
  },
  {
   "cell_type": "code",
   "execution_count": 1,
   "id": "3eeffe62",
   "metadata": {},
   "outputs": [],
   "source": [
    "import pandas as pd\n",
    "import numpy as np\n",
    "\n",
    "from matplotlib import pyplot as plt\n",
    "import seaborn as sns\n",
    "\n",
    "\n",
    "%matplotlib inline"
   ]
  },
  {
   "cell_type": "code",
   "execution_count": 2,
   "id": "21e34ffd",
   "metadata": {},
   "outputs": [],
   "source": [
    "df = pd.read_excel(\"titanic.xlsx\")"
   ]
  },
  {
   "cell_type": "code",
   "execution_count": 3,
   "id": "eee94dc1",
   "metadata": {
    "scrolled": true
   },
   "outputs": [
    {
     "data": {
      "text/html": [
       "<div>\n",
       "<style scoped>\n",
       "    .dataframe tbody tr th:only-of-type {\n",
       "        vertical-align: middle;\n",
       "    }\n",
       "\n",
       "    .dataframe tbody tr th {\n",
       "        vertical-align: top;\n",
       "    }\n",
       "\n",
       "    .dataframe thead th {\n",
       "        text-align: right;\n",
       "    }\n",
       "</style>\n",
       "<table border=\"1\" class=\"dataframe\">\n",
       "  <thead>\n",
       "    <tr style=\"text-align: right;\">\n",
       "      <th></th>\n",
       "      <th>pclass</th>\n",
       "      <th>survived</th>\n",
       "      <th>name</th>\n",
       "      <th>sex</th>\n",
       "      <th>age</th>\n",
       "      <th>sibsp</th>\n",
       "      <th>parch</th>\n",
       "      <th>ticket</th>\n",
       "      <th>fare</th>\n",
       "      <th>cabin</th>\n",
       "      <th>embarked</th>\n",
       "      <th>boat</th>\n",
       "      <th>body</th>\n",
       "      <th>home.dest</th>\n",
       "    </tr>\n",
       "  </thead>\n",
       "  <tbody>\n",
       "    <tr>\n",
       "      <th>0</th>\n",
       "      <td>1</td>\n",
       "      <td>1</td>\n",
       "      <td>Allen, Miss. Elisabeth Walton</td>\n",
       "      <td>female</td>\n",
       "      <td>29.0000</td>\n",
       "      <td>0</td>\n",
       "      <td>0</td>\n",
       "      <td>24160</td>\n",
       "      <td>211.3375</td>\n",
       "      <td>B5</td>\n",
       "      <td>S</td>\n",
       "      <td>2</td>\n",
       "      <td>NaN</td>\n",
       "      <td>St Louis, MO</td>\n",
       "    </tr>\n",
       "    <tr>\n",
       "      <th>1</th>\n",
       "      <td>1</td>\n",
       "      <td>1</td>\n",
       "      <td>Allison, Master. Hudson Trevor</td>\n",
       "      <td>male</td>\n",
       "      <td>0.9167</td>\n",
       "      <td>1</td>\n",
       "      <td>2</td>\n",
       "      <td>113781</td>\n",
       "      <td>151.5500</td>\n",
       "      <td>C22 C26</td>\n",
       "      <td>S</td>\n",
       "      <td>11</td>\n",
       "      <td>NaN</td>\n",
       "      <td>Montreal, PQ / Chesterville, ON</td>\n",
       "    </tr>\n",
       "    <tr>\n",
       "      <th>2</th>\n",
       "      <td>1</td>\n",
       "      <td>0</td>\n",
       "      <td>Allison, Miss. Helen Loraine</td>\n",
       "      <td>female</td>\n",
       "      <td>2.0000</td>\n",
       "      <td>1</td>\n",
       "      <td>2</td>\n",
       "      <td>113781</td>\n",
       "      <td>151.5500</td>\n",
       "      <td>C22 C26</td>\n",
       "      <td>S</td>\n",
       "      <td>NaN</td>\n",
       "      <td>NaN</td>\n",
       "      <td>Montreal, PQ / Chesterville, ON</td>\n",
       "    </tr>\n",
       "    <tr>\n",
       "      <th>3</th>\n",
       "      <td>1</td>\n",
       "      <td>0</td>\n",
       "      <td>Allison, Mr. Hudson Joshua Creighton</td>\n",
       "      <td>male</td>\n",
       "      <td>30.0000</td>\n",
       "      <td>1</td>\n",
       "      <td>2</td>\n",
       "      <td>113781</td>\n",
       "      <td>151.5500</td>\n",
       "      <td>C22 C26</td>\n",
       "      <td>S</td>\n",
       "      <td>NaN</td>\n",
       "      <td>135.0</td>\n",
       "      <td>Montreal, PQ / Chesterville, ON</td>\n",
       "    </tr>\n",
       "    <tr>\n",
       "      <th>4</th>\n",
       "      <td>1</td>\n",
       "      <td>0</td>\n",
       "      <td>Allison, Mrs. Hudson J C (Bessie Waldo Daniels)</td>\n",
       "      <td>female</td>\n",
       "      <td>25.0000</td>\n",
       "      <td>1</td>\n",
       "      <td>2</td>\n",
       "      <td>113781</td>\n",
       "      <td>151.5500</td>\n",
       "      <td>C22 C26</td>\n",
       "      <td>S</td>\n",
       "      <td>NaN</td>\n",
       "      <td>NaN</td>\n",
       "      <td>Montreal, PQ / Chesterville, ON</td>\n",
       "    </tr>\n",
       "  </tbody>\n",
       "</table>\n",
       "</div>"
      ],
      "text/plain": [
       "   pclass  survived                                             name     sex  \\\n",
       "0       1         1                    Allen, Miss. Elisabeth Walton  female   \n",
       "1       1         1                   Allison, Master. Hudson Trevor    male   \n",
       "2       1         0                     Allison, Miss. Helen Loraine  female   \n",
       "3       1         0             Allison, Mr. Hudson Joshua Creighton    male   \n",
       "4       1         0  Allison, Mrs. Hudson J C (Bessie Waldo Daniels)  female   \n",
       "\n",
       "       age  sibsp  parch  ticket      fare    cabin embarked boat   body  \\\n",
       "0  29.0000      0      0   24160  211.3375       B5        S    2    NaN   \n",
       "1   0.9167      1      2  113781  151.5500  C22 C26        S   11    NaN   \n",
       "2   2.0000      1      2  113781  151.5500  C22 C26        S  NaN    NaN   \n",
       "3  30.0000      1      2  113781  151.5500  C22 C26        S  NaN  135.0   \n",
       "4  25.0000      1      2  113781  151.5500  C22 C26        S  NaN    NaN   \n",
       "\n",
       "                         home.dest  \n",
       "0                     St Louis, MO  \n",
       "1  Montreal, PQ / Chesterville, ON  \n",
       "2  Montreal, PQ / Chesterville, ON  \n",
       "3  Montreal, PQ / Chesterville, ON  \n",
       "4  Montreal, PQ / Chesterville, ON  "
      ]
     },
     "execution_count": 3,
     "metadata": {},
     "output_type": "execute_result"
    }
   ],
   "source": [
    "df.head()"
   ]
  },
  {
   "cell_type": "code",
   "execution_count": 4,
   "id": "5ca704a2",
   "metadata": {
    "scrolled": true
   },
   "outputs": [
    {
     "data": {
      "text/html": [
       "<div>\n",
       "<style scoped>\n",
       "    .dataframe tbody tr th:only-of-type {\n",
       "        vertical-align: middle;\n",
       "    }\n",
       "\n",
       "    .dataframe tbody tr th {\n",
       "        vertical-align: top;\n",
       "    }\n",
       "\n",
       "    .dataframe thead th {\n",
       "        text-align: right;\n",
       "    }\n",
       "</style>\n",
       "<table border=\"1\" class=\"dataframe\">\n",
       "  <thead>\n",
       "    <tr style=\"text-align: right;\">\n",
       "      <th></th>\n",
       "      <th>pclass</th>\n",
       "      <th>survived</th>\n",
       "      <th>name</th>\n",
       "      <th>sex</th>\n",
       "      <th>age</th>\n",
       "      <th>sibsp</th>\n",
       "      <th>parch</th>\n",
       "      <th>ticket</th>\n",
       "      <th>fare</th>\n",
       "      <th>cabin</th>\n",
       "      <th>embarked</th>\n",
       "      <th>boat</th>\n",
       "      <th>body</th>\n",
       "      <th>home.dest</th>\n",
       "    </tr>\n",
       "  </thead>\n",
       "  <tbody>\n",
       "    <tr>\n",
       "      <th>1304</th>\n",
       "      <td>3</td>\n",
       "      <td>0</td>\n",
       "      <td>Zabour, Miss. Hileni</td>\n",
       "      <td>female</td>\n",
       "      <td>14.5</td>\n",
       "      <td>1</td>\n",
       "      <td>0</td>\n",
       "      <td>2665</td>\n",
       "      <td>14.4542</td>\n",
       "      <td>NaN</td>\n",
       "      <td>C</td>\n",
       "      <td>NaN</td>\n",
       "      <td>328.0</td>\n",
       "      <td>NaN</td>\n",
       "    </tr>\n",
       "    <tr>\n",
       "      <th>1305</th>\n",
       "      <td>3</td>\n",
       "      <td>0</td>\n",
       "      <td>Zabour, Miss. Thamine</td>\n",
       "      <td>female</td>\n",
       "      <td>NaN</td>\n",
       "      <td>1</td>\n",
       "      <td>0</td>\n",
       "      <td>2665</td>\n",
       "      <td>14.4542</td>\n",
       "      <td>NaN</td>\n",
       "      <td>C</td>\n",
       "      <td>NaN</td>\n",
       "      <td>NaN</td>\n",
       "      <td>NaN</td>\n",
       "    </tr>\n",
       "    <tr>\n",
       "      <th>1306</th>\n",
       "      <td>3</td>\n",
       "      <td>0</td>\n",
       "      <td>Zakarian, Mr. Mapriededer</td>\n",
       "      <td>male</td>\n",
       "      <td>26.5</td>\n",
       "      <td>0</td>\n",
       "      <td>0</td>\n",
       "      <td>2656</td>\n",
       "      <td>7.2250</td>\n",
       "      <td>NaN</td>\n",
       "      <td>C</td>\n",
       "      <td>NaN</td>\n",
       "      <td>304.0</td>\n",
       "      <td>NaN</td>\n",
       "    </tr>\n",
       "    <tr>\n",
       "      <th>1307</th>\n",
       "      <td>3</td>\n",
       "      <td>0</td>\n",
       "      <td>Zakarian, Mr. Ortin</td>\n",
       "      <td>male</td>\n",
       "      <td>27.0</td>\n",
       "      <td>0</td>\n",
       "      <td>0</td>\n",
       "      <td>2670</td>\n",
       "      <td>7.2250</td>\n",
       "      <td>NaN</td>\n",
       "      <td>C</td>\n",
       "      <td>NaN</td>\n",
       "      <td>NaN</td>\n",
       "      <td>NaN</td>\n",
       "    </tr>\n",
       "    <tr>\n",
       "      <th>1308</th>\n",
       "      <td>3</td>\n",
       "      <td>0</td>\n",
       "      <td>Zimmerman, Mr. Leo</td>\n",
       "      <td>male</td>\n",
       "      <td>29.0</td>\n",
       "      <td>0</td>\n",
       "      <td>0</td>\n",
       "      <td>315082</td>\n",
       "      <td>7.8750</td>\n",
       "      <td>NaN</td>\n",
       "      <td>S</td>\n",
       "      <td>NaN</td>\n",
       "      <td>NaN</td>\n",
       "      <td>NaN</td>\n",
       "    </tr>\n",
       "  </tbody>\n",
       "</table>\n",
       "</div>"
      ],
      "text/plain": [
       "      pclass  survived                       name     sex   age  sibsp  parch  \\\n",
       "1304       3         0       Zabour, Miss. Hileni  female  14.5      1      0   \n",
       "1305       3         0      Zabour, Miss. Thamine  female   NaN      1      0   \n",
       "1306       3         0  Zakarian, Mr. Mapriededer    male  26.5      0      0   \n",
       "1307       3         0        Zakarian, Mr. Ortin    male  27.0      0      0   \n",
       "1308       3         0         Zimmerman, Mr. Leo    male  29.0      0      0   \n",
       "\n",
       "      ticket     fare cabin embarked boat   body home.dest  \n",
       "1304    2665  14.4542   NaN        C  NaN  328.0       NaN  \n",
       "1305    2665  14.4542   NaN        C  NaN    NaN       NaN  \n",
       "1306    2656   7.2250   NaN        C  NaN  304.0       NaN  \n",
       "1307    2670   7.2250   NaN        C  NaN    NaN       NaN  \n",
       "1308  315082   7.8750   NaN        S  NaN    NaN       NaN  "
      ]
     },
     "execution_count": 4,
     "metadata": {},
     "output_type": "execute_result"
    }
   ],
   "source": [
    "df.tail()"
   ]
  },
  {
   "cell_type": "markdown",
   "id": "76794a67",
   "metadata": {},
   "source": [
    "### Determine the Characteristics of the Dataset\n",
    "\n",
    "   * How many columns are in this dataset?\n",
    "   * How many rows are in this dataset?\n",
    "   * What types of data are in each column? Does this make sense with that you know about that column?\n",
    "   * Which variables are numeric? Which variables are categorical? What other variables are left outside of these two groups?\n",
    "   * Which variable could be considered a 'dependent' variable?"
   ]
  },
  {
   "cell_type": "code",
   "execution_count": 5,
   "id": "232d2281",
   "metadata": {},
   "outputs": [
    {
     "data": {
      "text/plain": [
       "(1309, 14)"
      ]
     },
     "execution_count": 5,
     "metadata": {},
     "output_type": "execute_result"
    }
   ],
   "source": [
    "df.shape  # 1309 rows 14 columns"
   ]
  },
  {
   "cell_type": "code",
   "execution_count": 6,
   "id": "5aa8af8c",
   "metadata": {},
   "outputs": [
    {
     "name": "stdout",
     "output_type": "stream",
     "text": [
      "<class 'pandas.core.frame.DataFrame'>\n",
      "RangeIndex: 1309 entries, 0 to 1308\n",
      "Data columns (total 14 columns):\n",
      " #   Column     Non-Null Count  Dtype  \n",
      "---  ------     --------------  -----  \n",
      " 0   pclass     1309 non-null   int64  \n",
      " 1   survived   1309 non-null   int64  \n",
      " 2   name       1309 non-null   object \n",
      " 3   sex        1309 non-null   object \n",
      " 4   age        1046 non-null   float64\n",
      " 5   sibsp      1309 non-null   int64  \n",
      " 6   parch      1309 non-null   int64  \n",
      " 7   ticket     1309 non-null   object \n",
      " 8   fare       1308 non-null   float64\n",
      " 9   cabin      295 non-null    object \n",
      " 10  embarked   1307 non-null   object \n",
      " 11  boat       486 non-null    object \n",
      " 12  body       121 non-null    float64\n",
      " 13  home.dest  745 non-null    object \n",
      "dtypes: float64(3), int64(4), object(7)\n",
      "memory usage: 143.3+ KB\n"
     ]
    }
   ],
   "source": [
    "df.info()"
   ]
  },
  {
   "cell_type": "code",
   "execution_count": 7,
   "id": "ad0df00d",
   "metadata": {},
   "outputs": [],
   "source": [
    "# pclass      int64   categorical\n",
    "# survived    int64   categorical\n",
    "# name        object  categorical\n",
    "# sex         object  categorical\n",
    "# cabin       object  categorical\n",
    "# embarked    object  categorical\n",
    "# home.dest   object  categorical\n",
    "\n",
    "# age         float64 numerical\n",
    "# sibsp       int64   numerical\n",
    "# parch       int64   numerical\n",
    "# ticket      object  numerical\n",
    "# fare        float64 numerical\n",
    "# boat        object  numerical\n",
    "# body        float64 numerical"
   ]
  },
  {
   "cell_type": "code",
   "execution_count": 8,
   "id": "4d529961",
   "metadata": {},
   "outputs": [],
   "source": [
    "# ticket and boat represent numbers but are object types\n",
    "# pclass and survived are categorical but represented by numbers."
   ]
  },
  {
   "cell_type": "code",
   "execution_count": 9,
   "id": "0f61eacc",
   "metadata": {},
   "outputs": [],
   "source": [
    "# survived is the dependent variable "
   ]
  },
  {
   "cell_type": "code",
   "execution_count": 10,
   "id": "5b15b2f1",
   "metadata": {},
   "outputs": [
    {
     "data": {
      "text/plain": [
       "0    809\n",
       "1    500\n",
       "Name: survived, dtype: int64"
      ]
     },
     "execution_count": 10,
     "metadata": {},
     "output_type": "execute_result"
    }
   ],
   "source": [
    "df[\"survived\"].value_counts()"
   ]
  },
  {
   "cell_type": "markdown",
   "id": "23797b32",
   "metadata": {},
   "source": [
    "### Identify the Missing Data in the Dataset\n",
    "\n",
    "   * Is there any missing data?\n",
    "   * Which columns have any missing data?\n",
    "   * Which column has the most missing information? Which column has the least?"
   ]
  },
  {
   "cell_type": "code",
   "execution_count": 11,
   "id": "26428919",
   "metadata": {},
   "outputs": [
    {
     "data": {
      "text/plain": [
       "pclass          0\n",
       "survived        0\n",
       "name            0\n",
       "sex             0\n",
       "age           263\n",
       "sibsp           0\n",
       "parch           0\n",
       "ticket          0\n",
       "fare            1\n",
       "cabin        1014\n",
       "embarked        2\n",
       "boat          823\n",
       "body         1188\n",
       "home.dest     564\n",
       "dtype: int64"
      ]
     },
     "execution_count": 11,
     "metadata": {},
     "output_type": "execute_result"
    }
   ],
   "source": [
    "df.isnull().sum()"
   ]
  },
  {
   "cell_type": "code",
   "execution_count": 12,
   "id": "52dfa78c",
   "metadata": {},
   "outputs": [],
   "source": [
    "# age           263\n",
    "# fare            1\n",
    "# cabin        1014\n",
    "# embarked        2\n",
    "# boat          823\n",
    "# body         1188\n",
    "# home.dest     564\n"
   ]
  },
  {
   "cell_type": "code",
   "execution_count": 13,
   "id": "c1274347",
   "metadata": {},
   "outputs": [],
   "source": [
    "# body = recovered body number has the most null data, but numbers were only assigned \n",
    "# to recovered bodies not missing persons or survivors and some missing values would be expected\n",
    "\n",
    "#df[\"survived\"].value_counts()\n",
    "# 0    809\n",
    "# 1    500\n",
    "# Name: survived, dtype: int64\n",
    "# of 1309 passengers 500 survived 809 did not \n",
    "# 1309 - 1188 = 121 values for bodies recovered \n",
    "# df[\"body\"].max() = 328\n",
    "# 328 - 121 = 207 missing values for recovered bodies or 207/328 = 60% missing data where values would be expected\n"
   ]
  },
  {
   "cell_type": "code",
   "execution_count": 14,
   "id": "0cae064b",
   "metadata": {},
   "outputs": [
    {
     "data": {
      "text/html": [
       "<div>\n",
       "<style scoped>\n",
       "    .dataframe tbody tr th:only-of-type {\n",
       "        vertical-align: middle;\n",
       "    }\n",
       "\n",
       "    .dataframe tbody tr th {\n",
       "        vertical-align: top;\n",
       "    }\n",
       "\n",
       "    .dataframe thead th {\n",
       "        text-align: right;\n",
       "    }\n",
       "</style>\n",
       "<table border=\"1\" class=\"dataframe\">\n",
       "  <thead>\n",
       "    <tr style=\"text-align: right;\">\n",
       "      <th></th>\n",
       "      <th>pclass</th>\n",
       "      <th>survived</th>\n",
       "      <th>name</th>\n",
       "      <th>sex</th>\n",
       "      <th>age</th>\n",
       "      <th>sibsp</th>\n",
       "      <th>parch</th>\n",
       "      <th>ticket</th>\n",
       "      <th>fare</th>\n",
       "      <th>cabin</th>\n",
       "      <th>embarked</th>\n",
       "      <th>boat</th>\n",
       "      <th>body</th>\n",
       "      <th>home.dest</th>\n",
       "    </tr>\n",
       "  </thead>\n",
       "  <tbody>\n",
       "    <tr>\n",
       "      <th>1225</th>\n",
       "      <td>3</td>\n",
       "      <td>0</td>\n",
       "      <td>Storey, Mr. Thomas</td>\n",
       "      <td>male</td>\n",
       "      <td>60.5</td>\n",
       "      <td>0</td>\n",
       "      <td>0</td>\n",
       "      <td>3701</td>\n",
       "      <td>NaN</td>\n",
       "      <td>NaN</td>\n",
       "      <td>S</td>\n",
       "      <td>NaN</td>\n",
       "      <td>261.0</td>\n",
       "      <td>NaN</td>\n",
       "    </tr>\n",
       "  </tbody>\n",
       "</table>\n",
       "</div>"
      ],
      "text/plain": [
       "      pclass  survived                name   sex   age  sibsp  parch ticket  \\\n",
       "1225       3         0  Storey, Mr. Thomas  male  60.5      0      0   3701   \n",
       "\n",
       "      fare cabin embarked boat   body home.dest  \n",
       "1225   NaN   NaN        S  NaN  261.0       NaN  "
      ]
     },
     "execution_count": 14,
     "metadata": {},
     "output_type": "execute_result"
    }
   ],
   "source": [
    "# fare has the least missing data with one fare missing\n",
    "df.loc[df[\"fare\"].isna() == True]"
   ]
  },
  {
   "cell_type": "markdown",
   "id": "5080d6ce",
   "metadata": {},
   "source": [
    "### Handling the Missing Data in the Dataset\n",
    "\n",
    "   * Remove the columns with excessive missing data (any column missing greater than 500 rows)\n",
    "   * When there is very little missing data, we can make replacements. Replace the missing data for the \"embarked\" column with the most common embarkation point. \n",
    "   * Replace the missing data in \"fare\" with the average fare of the entire sample. \n",
    "   * Remove the rows in the dataset that has missing \"age\" data. \n",
    "   * Recheck is there is any data missing in the dataset. "
   ]
  },
  {
   "cell_type": "code",
   "execution_count": 15,
   "id": "fbeaf9bb",
   "metadata": {},
   "outputs": [
    {
     "data": {
      "text/plain": [
       "['cabin', 'boat', 'body', 'home.dest']"
      ]
     },
     "execution_count": 15,
     "metadata": {},
     "output_type": "execute_result"
    }
   ],
   "source": [
    "# cabin        1014\n",
    "# boat          823\n",
    "# body         1188\n",
    "# home.dest     564\n",
    "list(df.columns[(df.isna().sum() > 500)])"
   ]
  },
  {
   "cell_type": "code",
   "execution_count": 16,
   "id": "a023a95a",
   "metadata": {},
   "outputs": [],
   "source": [
    "#df.drop(columns = [\"cabin\",\"boat\",\"body\",\"home.dest\"],inplace = True)\n",
    "df.drop(columns = list(df.columns[(df.isna().sum() > 500)]), inplace = True)"
   ]
  },
  {
   "cell_type": "code",
   "execution_count": 17,
   "id": "c9307a86",
   "metadata": {
    "scrolled": true
   },
   "outputs": [
    {
     "data": {
      "text/html": [
       "<div>\n",
       "<style scoped>\n",
       "    .dataframe tbody tr th:only-of-type {\n",
       "        vertical-align: middle;\n",
       "    }\n",
       "\n",
       "    .dataframe tbody tr th {\n",
       "        vertical-align: top;\n",
       "    }\n",
       "\n",
       "    .dataframe thead th {\n",
       "        text-align: right;\n",
       "    }\n",
       "</style>\n",
       "<table border=\"1\" class=\"dataframe\">\n",
       "  <thead>\n",
       "    <tr style=\"text-align: right;\">\n",
       "      <th></th>\n",
       "      <th>pclass</th>\n",
       "      <th>survived</th>\n",
       "      <th>name</th>\n",
       "      <th>sex</th>\n",
       "      <th>age</th>\n",
       "      <th>sibsp</th>\n",
       "      <th>parch</th>\n",
       "      <th>ticket</th>\n",
       "      <th>fare</th>\n",
       "      <th>embarked</th>\n",
       "    </tr>\n",
       "  </thead>\n",
       "  <tbody>\n",
       "    <tr>\n",
       "      <th>0</th>\n",
       "      <td>1</td>\n",
       "      <td>1</td>\n",
       "      <td>Allen, Miss. Elisabeth Walton</td>\n",
       "      <td>female</td>\n",
       "      <td>29.0000</td>\n",
       "      <td>0</td>\n",
       "      <td>0</td>\n",
       "      <td>24160</td>\n",
       "      <td>211.3375</td>\n",
       "      <td>S</td>\n",
       "    </tr>\n",
       "    <tr>\n",
       "      <th>1</th>\n",
       "      <td>1</td>\n",
       "      <td>1</td>\n",
       "      <td>Allison, Master. Hudson Trevor</td>\n",
       "      <td>male</td>\n",
       "      <td>0.9167</td>\n",
       "      <td>1</td>\n",
       "      <td>2</td>\n",
       "      <td>113781</td>\n",
       "      <td>151.5500</td>\n",
       "      <td>S</td>\n",
       "    </tr>\n",
       "    <tr>\n",
       "      <th>2</th>\n",
       "      <td>1</td>\n",
       "      <td>0</td>\n",
       "      <td>Allison, Miss. Helen Loraine</td>\n",
       "      <td>female</td>\n",
       "      <td>2.0000</td>\n",
       "      <td>1</td>\n",
       "      <td>2</td>\n",
       "      <td>113781</td>\n",
       "      <td>151.5500</td>\n",
       "      <td>S</td>\n",
       "    </tr>\n",
       "    <tr>\n",
       "      <th>3</th>\n",
       "      <td>1</td>\n",
       "      <td>0</td>\n",
       "      <td>Allison, Mr. Hudson Joshua Creighton</td>\n",
       "      <td>male</td>\n",
       "      <td>30.0000</td>\n",
       "      <td>1</td>\n",
       "      <td>2</td>\n",
       "      <td>113781</td>\n",
       "      <td>151.5500</td>\n",
       "      <td>S</td>\n",
       "    </tr>\n",
       "    <tr>\n",
       "      <th>4</th>\n",
       "      <td>1</td>\n",
       "      <td>0</td>\n",
       "      <td>Allison, Mrs. Hudson J C (Bessie Waldo Daniels)</td>\n",
       "      <td>female</td>\n",
       "      <td>25.0000</td>\n",
       "      <td>1</td>\n",
       "      <td>2</td>\n",
       "      <td>113781</td>\n",
       "      <td>151.5500</td>\n",
       "      <td>S</td>\n",
       "    </tr>\n",
       "  </tbody>\n",
       "</table>\n",
       "</div>"
      ],
      "text/plain": [
       "   pclass  survived                                             name     sex  \\\n",
       "0       1         1                    Allen, Miss. Elisabeth Walton  female   \n",
       "1       1         1                   Allison, Master. Hudson Trevor    male   \n",
       "2       1         0                     Allison, Miss. Helen Loraine  female   \n",
       "3       1         0             Allison, Mr. Hudson Joshua Creighton    male   \n",
       "4       1         0  Allison, Mrs. Hudson J C (Bessie Waldo Daniels)  female   \n",
       "\n",
       "       age  sibsp  parch  ticket      fare embarked  \n",
       "0  29.0000      0      0   24160  211.3375        S  \n",
       "1   0.9167      1      2  113781  151.5500        S  \n",
       "2   2.0000      1      2  113781  151.5500        S  \n",
       "3  30.0000      1      2  113781  151.5500        S  \n",
       "4  25.0000      1      2  113781  151.5500        S  "
      ]
     },
     "execution_count": 17,
     "metadata": {},
     "output_type": "execute_result"
    }
   ],
   "source": [
    "df.head()"
   ]
  },
  {
   "cell_type": "code",
   "execution_count": 18,
   "id": "2ce18399",
   "metadata": {},
   "outputs": [],
   "source": [
    "# Replace the missing data for the \"embarked\" column with the most common embarkation point. "
   ]
  },
  {
   "cell_type": "code",
   "execution_count": 19,
   "id": "6aaffc85",
   "metadata": {
    "scrolled": true
   },
   "outputs": [
    {
     "data": {
      "text/html": [
       "<div>\n",
       "<style scoped>\n",
       "    .dataframe tbody tr th:only-of-type {\n",
       "        vertical-align: middle;\n",
       "    }\n",
       "\n",
       "    .dataframe tbody tr th {\n",
       "        vertical-align: top;\n",
       "    }\n",
       "\n",
       "    .dataframe thead th {\n",
       "        text-align: right;\n",
       "    }\n",
       "</style>\n",
       "<table border=\"1\" class=\"dataframe\">\n",
       "  <thead>\n",
       "    <tr style=\"text-align: right;\">\n",
       "      <th></th>\n",
       "      <th>pclass</th>\n",
       "      <th>survived</th>\n",
       "      <th>name</th>\n",
       "      <th>sex</th>\n",
       "      <th>age</th>\n",
       "      <th>sibsp</th>\n",
       "      <th>parch</th>\n",
       "      <th>ticket</th>\n",
       "      <th>fare</th>\n",
       "      <th>embarked</th>\n",
       "    </tr>\n",
       "  </thead>\n",
       "  <tbody>\n",
       "    <tr>\n",
       "      <th>168</th>\n",
       "      <td>1</td>\n",
       "      <td>1</td>\n",
       "      <td>Icard, Miss. Amelie</td>\n",
       "      <td>female</td>\n",
       "      <td>38.0</td>\n",
       "      <td>0</td>\n",
       "      <td>0</td>\n",
       "      <td>113572</td>\n",
       "      <td>80.0</td>\n",
       "      <td>NaN</td>\n",
       "    </tr>\n",
       "    <tr>\n",
       "      <th>284</th>\n",
       "      <td>1</td>\n",
       "      <td>1</td>\n",
       "      <td>Stone, Mrs. George Nelson (Martha Evelyn)</td>\n",
       "      <td>female</td>\n",
       "      <td>62.0</td>\n",
       "      <td>0</td>\n",
       "      <td>0</td>\n",
       "      <td>113572</td>\n",
       "      <td>80.0</td>\n",
       "      <td>NaN</td>\n",
       "    </tr>\n",
       "  </tbody>\n",
       "</table>\n",
       "</div>"
      ],
      "text/plain": [
       "     pclass  survived                                       name     sex  \\\n",
       "168       1         1                        Icard, Miss. Amelie  female   \n",
       "284       1         1  Stone, Mrs. George Nelson (Martha Evelyn)  female   \n",
       "\n",
       "      age  sibsp  parch  ticket  fare embarked  \n",
       "168  38.0      0      0  113572  80.0      NaN  \n",
       "284  62.0      0      0  113572  80.0      NaN  "
      ]
     },
     "execution_count": 19,
     "metadata": {},
     "output_type": "execute_result"
    }
   ],
   "source": [
    "df.loc[df[\"embarked\"].isna()]"
   ]
  },
  {
   "cell_type": "code",
   "execution_count": 20,
   "id": "9fc4c5ad",
   "metadata": {},
   "outputs": [],
   "source": [
    "df[\"embarked\"].fillna(df[\"embarked\"].mode()[0],inplace = True)"
   ]
  },
  {
   "cell_type": "code",
   "execution_count": 21,
   "id": "8daa8438",
   "metadata": {},
   "outputs": [
    {
     "data": {
      "text/plain": [
       "0"
      ]
     },
     "execution_count": 21,
     "metadata": {},
     "output_type": "execute_result"
    }
   ],
   "source": [
    "df[\"embarked\"].isna().sum()"
   ]
  },
  {
   "cell_type": "code",
   "execution_count": 22,
   "id": "24e9eeb0",
   "metadata": {},
   "outputs": [],
   "source": [
    "# Replace the missing data in \"fare\" with the average fare of the entire sample"
   ]
  },
  {
   "cell_type": "code",
   "execution_count": 23,
   "id": "22326ed3",
   "metadata": {},
   "outputs": [],
   "source": [
    "df[\"fare\"].fillna(df[\"fare\"].mean(),inplace = True)"
   ]
  },
  {
   "cell_type": "code",
   "execution_count": 24,
   "id": "d3b313e8",
   "metadata": {},
   "outputs": [],
   "source": [
    "# Remove the rows in the dataset that has missing \"age\" data. "
   ]
  },
  {
   "cell_type": "code",
   "execution_count": 25,
   "id": "96efa316",
   "metadata": {},
   "outputs": [],
   "source": [
    "df.dropna(subset = \"age\",inplace = True)"
   ]
  },
  {
   "cell_type": "code",
   "execution_count": 26,
   "id": "1bfbe2dc",
   "metadata": {},
   "outputs": [
    {
     "data": {
      "text/plain": [
       "pclass      0\n",
       "survived    0\n",
       "name        0\n",
       "sex         0\n",
       "age         0\n",
       "sibsp       0\n",
       "parch       0\n",
       "ticket      0\n",
       "fare        0\n",
       "embarked    0\n",
       "dtype: int64"
      ]
     },
     "execution_count": 26,
     "metadata": {},
     "output_type": "execute_result"
    }
   ],
   "source": [
    "df.isna().sum() # no na values"
   ]
  },
  {
   "cell_type": "code",
   "execution_count": 27,
   "id": "8cbb44b8",
   "metadata": {},
   "outputs": [
    {
     "name": "stdout",
     "output_type": "stream",
     "text": [
      "<class 'pandas.core.frame.DataFrame'>\n",
      "Int64Index: 1046 entries, 0 to 1308\n",
      "Data columns (total 10 columns):\n",
      " #   Column    Non-Null Count  Dtype  \n",
      "---  ------    --------------  -----  \n",
      " 0   pclass    1046 non-null   int64  \n",
      " 1   survived  1046 non-null   int64  \n",
      " 2   name      1046 non-null   object \n",
      " 3   sex       1046 non-null   object \n",
      " 4   age       1046 non-null   float64\n",
      " 5   sibsp     1046 non-null   int64  \n",
      " 6   parch     1046 non-null   int64  \n",
      " 7   ticket    1046 non-null   object \n",
      " 8   fare      1046 non-null   float64\n",
      " 9   embarked  1046 non-null   object \n",
      "dtypes: float64(2), int64(4), object(4)\n",
      "memory usage: 89.9+ KB\n"
     ]
    }
   ],
   "source": [
    "df.info() "
   ]
  },
  {
   "cell_type": "code",
   "execution_count": 28,
   "id": "7883c9e6",
   "metadata": {},
   "outputs": [
    {
     "data": {
      "text/plain": [
       "(1046, 10)"
      ]
     },
     "execution_count": 28,
     "metadata": {},
     "output_type": "execute_result"
    }
   ],
   "source": [
    "df.shape # dropped 4 columns, 263 rows"
   ]
  },
  {
   "cell_type": "markdown",
   "id": "6671e4b6",
   "metadata": {},
   "source": [
    "### Creating Columns and Replacing Labels\n",
    "\n",
    "   * Create descriptive labels for the categorical columns: pclass, survived, and embarked. Instead of the coding that shows in the dataset, create labels to describe what each category represents (i.e. in the embarked column S = Southhampton)\n",
    "   * Create a new column called \"Titanic Passenger\" and make all values 1\n",
    "   * Create a new column called \"Family Size\" - this column should equal the total number of family members each passenger was traveling with.\n",
    "   * Create a column called \"Travel Alone\" - this column should be 1 if the passenger was traveling alone, and 0 if the passenger was traveling with family. \n",
    "   * Create a column called \"Has Caregiver\" - this column should have a value of 1 if a passenger is less than 13-years old AND the passenger is traveling with at least one family member, otherwise the value should be 0. \n",
    "   * Create a column called \"Crew\" - this column should be 1 if the passenger paid 0 dollars for their ticket, and 0 otherwise. \n",
    "   * Create a column called \"Age Group\" to group passengers by their age (create five categories: infant, child, teen, adult, senior). You can use bins to complete this (or any other method you like). You define the cutoff points for each group you create. \n",
    "   \n",
    "After create new columns, replace the basic coding \"0/1\" with meaningful labels. "
   ]
  },
  {
   "cell_type": "code",
   "execution_count": 29,
   "id": "8a66af47",
   "metadata": {},
   "outputs": [],
   "source": [
    "# Create descriptive labels for the categorical columns: pclass, survived, \n",
    "#     and embarked. Instead of the coding that shows in the dataset, \n",
    "#     create labels to describe what each category represents \n",
    "# pclass  1 = first class, 2 = second class, 3 = third class\n",
    "# survived - 0 = no 1 = yes\n",
    "# embarked C = Cherbourg, Q = Queenstown, S = Southampton"
   ]
  },
  {
   "cell_type": "code",
   "execution_count": 30,
   "id": "0c30a9b0",
   "metadata": {},
   "outputs": [],
   "source": [
    "df[\"pclass\"].replace([1,2,3],[\"first class\",\"second class\",\"third class\"],inplace = True)"
   ]
  },
  {
   "cell_type": "code",
   "execution_count": 31,
   "id": "51f52953",
   "metadata": {},
   "outputs": [],
   "source": [
    "df[\"survived\"].replace([0,1],[\"not survived\",\"survived\"],inplace = True)"
   ]
  },
  {
   "cell_type": "code",
   "execution_count": 32,
   "id": "018e5286",
   "metadata": {},
   "outputs": [],
   "source": [
    "df[\"embarked\"].replace([\"C\",\"Q\",\"S\"],[\"Cherbourg\",\"Queenstown\",\"Southampton\"],inplace = True)"
   ]
  },
  {
   "cell_type": "code",
   "execution_count": 33,
   "id": "4ca30347",
   "metadata": {},
   "outputs": [],
   "source": [
    "# Create a new column called \"Titanic Passenger\" and make all values 1"
   ]
  },
  {
   "cell_type": "code",
   "execution_count": 34,
   "id": "0a33f116",
   "metadata": {},
   "outputs": [],
   "source": [
    "df[\"Titanic Passenger\"] =  1"
   ]
  },
  {
   "cell_type": "code",
   "execution_count": 35,
   "id": "39cc4b2d",
   "metadata": {},
   "outputs": [],
   "source": [
    "df[\"Titanic Passenger\"].replace(1,\"yes\",inplace=True)"
   ]
  },
  {
   "cell_type": "code",
   "execution_count": 36,
   "id": "3063f0b6",
   "metadata": {},
   "outputs": [],
   "source": [
    "# Create a new column called \"Family Size\" - this column should equal the total number of family\n",
    "# members each passenger was traveling with"
   ]
  },
  {
   "cell_type": "code",
   "execution_count": 37,
   "id": "8c733855",
   "metadata": {},
   "outputs": [],
   "source": [
    "df[\"Family Size\"] = df[\"sibsp\"] + df[\"parch\"]"
   ]
  },
  {
   "cell_type": "code",
   "execution_count": 38,
   "id": "bdf81699",
   "metadata": {},
   "outputs": [],
   "source": [
    "# Create a column called \"Travel Alone\" - this column should be 1 if the passenger was traveling alone, and 0 if the passenger was traveling with family. "
   ]
  },
  {
   "cell_type": "code",
   "execution_count": 39,
   "id": "23513597",
   "metadata": {},
   "outputs": [],
   "source": [
    "df[\"Travel Alone\"] = np.where((df[\"Family Size\"] == 0 ),1,0)"
   ]
  },
  {
   "cell_type": "code",
   "execution_count": 40,
   "id": "4f5b1fbe",
   "metadata": {},
   "outputs": [],
   "source": [
    "df[\"Travel Alone\"].replace([0,1],[\"no\",\"yes\"],inplace=True)"
   ]
  },
  {
   "cell_type": "code",
   "execution_count": 41,
   "id": "4f9b759e",
   "metadata": {},
   "outputs": [],
   "source": [
    "#Create a column called \"Has Caregiver\" - this column should have a value of 1 if a passenger is less than 13-years old AND the passenger is traveling with at least one family member, otherwise the value should be 0. "
   ]
  },
  {
   "cell_type": "code",
   "execution_count": 42,
   "id": "5c685413",
   "metadata": {},
   "outputs": [],
   "source": [
    "df[\"Has Caregiver\"] = np.where(((df[\"age\"] < 13 )& (df[\"Family Size\"] > 0)),1,0)"
   ]
  },
  {
   "cell_type": "code",
   "execution_count": 43,
   "id": "0038d5df",
   "metadata": {},
   "outputs": [],
   "source": [
    "df[\"Has Caregiver\"].replace([0,1],[\"no\",\"yes\"],inplace=True)"
   ]
  },
  {
   "cell_type": "code",
   "execution_count": 44,
   "id": "e9913b49",
   "metadata": {},
   "outputs": [],
   "source": [
    "#Create a column called \"Crew\" - this column should be 1 if the passenger paid 0 dollars for their ticket, and 0 otherwise. "
   ]
  },
  {
   "cell_type": "code",
   "execution_count": 45,
   "id": "e79b3b6c",
   "metadata": {},
   "outputs": [],
   "source": [
    "df[\"Crew\"] = np.where((df[\"fare\"] == 0),1,0)"
   ]
  },
  {
   "cell_type": "code",
   "execution_count": 46,
   "id": "014d6f04",
   "metadata": {},
   "outputs": [],
   "source": [
    "df[\"Crew\"].replace([0,1],[\"no\",\"yes\"],inplace=True)"
   ]
  },
  {
   "cell_type": "code",
   "execution_count": 47,
   "id": "8f553cf8",
   "metadata": {},
   "outputs": [],
   "source": [
    "#Create a column called \"Age Group\" to group passengers by their age (create five categories: infant, child, teen, adult, senior). You can use bins to complete this (or any other method you like). You define the cutoff points for each group you create."
   ]
  },
  {
   "cell_type": "code",
   "execution_count": 48,
   "id": "03cee482",
   "metadata": {},
   "outputs": [],
   "source": [
    "bins = [0,2,12,18,65,100]\n",
    "bin_labels = [\"infant\", \"child\", \"teen\", \"adult\", \"senior\"]"
   ]
  },
  {
   "cell_type": "code",
   "execution_count": 49,
   "id": "63961003",
   "metadata": {},
   "outputs": [],
   "source": [
    "df[\"Age Group\"] = pd.cut(df[\"age\"], bins, labels = bin_labels)\n"
   ]
  },
  {
   "cell_type": "code",
   "execution_count": 50,
   "id": "8aa9c889",
   "metadata": {},
   "outputs": [
    {
     "data": {
      "text/html": [
       "<div>\n",
       "<style scoped>\n",
       "    .dataframe tbody tr th:only-of-type {\n",
       "        vertical-align: middle;\n",
       "    }\n",
       "\n",
       "    .dataframe tbody tr th {\n",
       "        vertical-align: top;\n",
       "    }\n",
       "\n",
       "    .dataframe thead th {\n",
       "        text-align: right;\n",
       "    }\n",
       "</style>\n",
       "<table border=\"1\" class=\"dataframe\">\n",
       "  <thead>\n",
       "    <tr style=\"text-align: right;\">\n",
       "      <th></th>\n",
       "      <th>pclass</th>\n",
       "      <th>survived</th>\n",
       "      <th>name</th>\n",
       "      <th>sex</th>\n",
       "      <th>age</th>\n",
       "      <th>sibsp</th>\n",
       "      <th>parch</th>\n",
       "      <th>ticket</th>\n",
       "      <th>fare</th>\n",
       "      <th>embarked</th>\n",
       "      <th>Titanic Passenger</th>\n",
       "      <th>Family Size</th>\n",
       "      <th>Travel Alone</th>\n",
       "      <th>Has Caregiver</th>\n",
       "      <th>Crew</th>\n",
       "      <th>Age Group</th>\n",
       "    </tr>\n",
       "  </thead>\n",
       "  <tbody>\n",
       "    <tr>\n",
       "      <th>0</th>\n",
       "      <td>first class</td>\n",
       "      <td>survived</td>\n",
       "      <td>Allen, Miss. Elisabeth Walton</td>\n",
       "      <td>female</td>\n",
       "      <td>29.0000</td>\n",
       "      <td>0</td>\n",
       "      <td>0</td>\n",
       "      <td>24160</td>\n",
       "      <td>211.3375</td>\n",
       "      <td>Southampton</td>\n",
       "      <td>yes</td>\n",
       "      <td>0</td>\n",
       "      <td>yes</td>\n",
       "      <td>no</td>\n",
       "      <td>no</td>\n",
       "      <td>adult</td>\n",
       "    </tr>\n",
       "    <tr>\n",
       "      <th>1</th>\n",
       "      <td>first class</td>\n",
       "      <td>survived</td>\n",
       "      <td>Allison, Master. Hudson Trevor</td>\n",
       "      <td>male</td>\n",
       "      <td>0.9167</td>\n",
       "      <td>1</td>\n",
       "      <td>2</td>\n",
       "      <td>113781</td>\n",
       "      <td>151.5500</td>\n",
       "      <td>Southampton</td>\n",
       "      <td>yes</td>\n",
       "      <td>3</td>\n",
       "      <td>no</td>\n",
       "      <td>yes</td>\n",
       "      <td>no</td>\n",
       "      <td>infant</td>\n",
       "    </tr>\n",
       "    <tr>\n",
       "      <th>2</th>\n",
       "      <td>first class</td>\n",
       "      <td>not survived</td>\n",
       "      <td>Allison, Miss. Helen Loraine</td>\n",
       "      <td>female</td>\n",
       "      <td>2.0000</td>\n",
       "      <td>1</td>\n",
       "      <td>2</td>\n",
       "      <td>113781</td>\n",
       "      <td>151.5500</td>\n",
       "      <td>Southampton</td>\n",
       "      <td>yes</td>\n",
       "      <td>3</td>\n",
       "      <td>no</td>\n",
       "      <td>yes</td>\n",
       "      <td>no</td>\n",
       "      <td>infant</td>\n",
       "    </tr>\n",
       "  </tbody>\n",
       "</table>\n",
       "</div>"
      ],
      "text/plain": [
       "        pclass      survived                            name     sex      age  \\\n",
       "0  first class      survived   Allen, Miss. Elisabeth Walton  female  29.0000   \n",
       "1  first class      survived  Allison, Master. Hudson Trevor    male   0.9167   \n",
       "2  first class  not survived    Allison, Miss. Helen Loraine  female   2.0000   \n",
       "\n",
       "   sibsp  parch  ticket      fare     embarked Titanic Passenger  Family Size  \\\n",
       "0      0      0   24160  211.3375  Southampton               yes            0   \n",
       "1      1      2  113781  151.5500  Southampton               yes            3   \n",
       "2      1      2  113781  151.5500  Southampton               yes            3   \n",
       "\n",
       "  Travel Alone Has Caregiver Crew Age Group  \n",
       "0          yes            no   no     adult  \n",
       "1           no           yes   no    infant  \n",
       "2           no           yes   no    infant  "
      ]
     },
     "execution_count": 50,
     "metadata": {},
     "output_type": "execute_result"
    }
   ],
   "source": [
    "df.head(3)"
   ]
  },
  {
   "cell_type": "code",
   "execution_count": null,
   "id": "bb0906e6",
   "metadata": {},
   "outputs": [],
   "source": []
  },
  {
   "cell_type": "markdown",
   "id": "e1a4c929",
   "metadata": {},
   "source": [
    "### Determine Frequencies of Groups\n",
    "\n",
    "* How many passengers fall into each category? Determine how many passengers fall into each group for <b>each</b> categorical vairable (including the ones you just created). "
   ]
  },
  {
   "cell_type": "code",
   "execution_count": 51,
   "id": "d6cfd6e8",
   "metadata": {},
   "outputs": [
    {
     "name": "stdout",
     "output_type": "stream",
     "text": [
      "<class 'pandas.core.frame.DataFrame'>\n",
      "Int64Index: 1046 entries, 0 to 1308\n",
      "Data columns (total 16 columns):\n",
      " #   Column             Non-Null Count  Dtype   \n",
      "---  ------             --------------  -----   \n",
      " 0   pclass             1046 non-null   object  \n",
      " 1   survived           1046 non-null   object  \n",
      " 2   name               1046 non-null   object  \n",
      " 3   sex                1046 non-null   object  \n",
      " 4   age                1046 non-null   float64 \n",
      " 5   sibsp              1046 non-null   int64   \n",
      " 6   parch              1046 non-null   int64   \n",
      " 7   ticket             1046 non-null   object  \n",
      " 8   fare               1046 non-null   float64 \n",
      " 9   embarked           1046 non-null   object  \n",
      " 10  Titanic Passenger  1046 non-null   object  \n",
      " 11  Family Size        1046 non-null   int64   \n",
      " 12  Travel Alone       1046 non-null   object  \n",
      " 13  Has Caregiver      1046 non-null   object  \n",
      " 14  Crew               1046 non-null   object  \n",
      " 15  Age Group          1046 non-null   category\n",
      "dtypes: category(1), float64(2), int64(3), object(10)\n",
      "memory usage: 132.0+ KB\n"
     ]
    }
   ],
   "source": [
    "df.info()"
   ]
  },
  {
   "cell_type": "code",
   "execution_count": null,
   "id": "17d7a575",
   "metadata": {},
   "outputs": [],
   "source": []
  },
  {
   "cell_type": "code",
   "execution_count": 52,
   "id": "61beddcd",
   "metadata": {
    "scrolled": false
   },
   "outputs": [
    {
     "name": "stdout",
     "output_type": "stream",
     "text": [
      "***** pclass *****\n",
      "third class     0.478967\n",
      "first class     0.271511\n",
      "second class    0.249522\n",
      "Name: pclass, dtype: float64\n",
      "\n",
      "***** survived *****\n",
      "not survived    0.591778\n",
      "survived        0.408222\n",
      "Name: survived, dtype: float64\n",
      "\n",
      "***** name *****\n",
      "Kelly, Mr. James                           0.001912\n",
      "Connolly, Miss. Kate                       0.001912\n",
      "Allen, Miss. Elisabeth Walton              0.000956\n",
      "de Messemaeker, Mr. Guillaume Joseph       0.000956\n",
      "Dean, Miss. Elizabeth Gladys \"Millvina\"    0.000956\n",
      "                                             ...   \n",
      "Dibden, Mr. William                        0.000956\n",
      "Doling, Miss. Elsie                        0.000956\n",
      "Doling, Mrs. John T (Ada Julia Bone)       0.000956\n",
      "Downton, Mr. William James                 0.000956\n",
      "Zimmerman, Mr. Leo                         0.000956\n",
      "Name: name, Length: 1044, dtype: float64\n",
      "\n",
      "***** sex *****\n",
      "male      0.629063\n",
      "female    0.370937\n",
      "Name: sex, dtype: float64\n",
      "\n",
      "***** age *****\n",
      "24.0000    0.044933\n",
      "22.0000    0.041109\n",
      "21.0000    0.039197\n",
      "30.0000    0.038241\n",
      "18.0000    0.037285\n",
      "             ...   \n",
      "0.3333     0.000956\n",
      "22.5000    0.000956\n",
      "70.5000    0.000956\n",
      "0.6667     0.000956\n",
      "26.5000    0.000956\n",
      "Name: age, Length: 98, dtype: float64\n",
      "\n",
      "***** sibsp *****\n",
      "0    0.654876\n",
      "1    0.267686\n",
      "2    0.034417\n",
      "4    0.021033\n",
      "3    0.015296\n",
      "5    0.005736\n",
      "8    0.000956\n",
      "Name: sibsp, dtype: float64\n",
      "\n",
      "***** parch *****\n",
      "0    0.734226\n",
      "1    0.152964\n",
      "2    0.092734\n",
      "3    0.007648\n",
      "5    0.005736\n",
      "4    0.004780\n",
      "6    0.001912\n",
      "Name: parch, dtype: float64\n",
      "\n",
      "***** ticket *****\n",
      "CA 2144          0.007648\n",
      "PC 17608         0.006692\n",
      "347077           0.006692\n",
      "347082           0.006692\n",
      "3101295          0.006692\n",
      "                   ...   \n",
      "SC/PARIS 2168    0.000956\n",
      "C.A. 17248       0.000956\n",
      "230434           0.000956\n",
      "SC/PARIS 2133    0.000956\n",
      "315082           0.000956\n",
      "Name: ticket, Length: 740, dtype: float64\n",
      "\n",
      "***** fare *****\n",
      "13.0000    0.055449\n",
      "26.0000    0.045889\n",
      "8.0500     0.036329\n",
      "10.5000    0.033461\n",
      "7.8958     0.028681\n",
      "             ...   \n",
      "26.3875    0.000956\n",
      "7.6292     0.000956\n",
      "31.6792    0.000956\n",
      "7.8208     0.000956\n",
      "7.8750     0.000956\n",
      "Name: fare, Length: 257, dtype: float64\n",
      "\n",
      "***** embarked *****\n",
      "Southampton    0.749522\n",
      "Cherbourg      0.202677\n",
      "Queenstown     0.047801\n",
      "Name: embarked, dtype: float64\n",
      "\n",
      "***** Titanic Passenger *****\n",
      "yes    1.0\n",
      "Name: Titanic Passenger, dtype: float64\n",
      "\n",
      "***** Family Size *****\n",
      "0     0.564054\n",
      "1     0.196941\n",
      "2     0.137667\n",
      "3     0.037285\n",
      "5     0.023901\n",
      "4     0.016252\n",
      "6     0.015296\n",
      "7     0.007648\n",
      "10    0.000956\n",
      "Name: Family Size, dtype: float64\n",
      "\n",
      "***** Travel Alone *****\n",
      "yes    0.564054\n",
      "no     0.435946\n",
      "Name: Travel Alone, dtype: float64\n",
      "\n",
      "***** Has Caregiver *****\n",
      "no     0.913002\n",
      "yes    0.086998\n",
      "Name: Has Caregiver, dtype: float64\n",
      "\n",
      "***** Crew *****\n",
      "no     0.992352\n",
      "yes    0.007648\n",
      "Name: Crew, dtype: float64\n",
      "\n",
      "***** Age Group *****\n",
      "adult     0.805927\n",
      "teen      0.094646\n",
      "child     0.057361\n",
      "infant    0.032505\n",
      "senior    0.009560\n",
      "Name: Age Group, dtype: float64\n",
      "\n"
     ]
    }
   ],
   "source": [
    "#  pclass, sex, survived,  embarked, Travel Alone, \n",
    "#  Crew, Age Group, Has Caregiver\n",
    "\n",
    "for col in df.columns:\n",
    "    print(\"*\"*5, col,\"*\"*5)\n",
    "    \n",
    "    print(df[col].value_counts(normalize=True))\n",
    "    print()     "
   ]
  },
  {
   "cell_type": "markdown",
   "id": "9a8c7799",
   "metadata": {},
   "source": [
    "### Determine the Distribution of Numeric Data\n",
    "\n",
    "* What are the summary statistics for <b>each</b> numeric variable in the dataset? Summary statistics include:\n",
    "    * Mean\n",
    "    * Median\n",
    "    * Mode\n",
    "    * Standard Deviation\n",
    "    * Range"
   ]
  },
  {
   "cell_type": "code",
   "execution_count": 53,
   "id": "3b3167f6",
   "metadata": {},
   "outputs": [
    {
     "data": {
      "text/html": [
       "<div>\n",
       "<style scoped>\n",
       "    .dataframe tbody tr th:only-of-type {\n",
       "        vertical-align: middle;\n",
       "    }\n",
       "\n",
       "    .dataframe tbody tr th {\n",
       "        vertical-align: top;\n",
       "    }\n",
       "\n",
       "    .dataframe thead th {\n",
       "        text-align: right;\n",
       "    }\n",
       "</style>\n",
       "<table border=\"1\" class=\"dataframe\">\n",
       "  <thead>\n",
       "    <tr style=\"text-align: right;\">\n",
       "      <th></th>\n",
       "      <th>age</th>\n",
       "      <th>sibsp</th>\n",
       "      <th>parch</th>\n",
       "      <th>fare</th>\n",
       "      <th>Family Size</th>\n",
       "    </tr>\n",
       "  </thead>\n",
       "  <tbody>\n",
       "    <tr>\n",
       "      <th>count</th>\n",
       "      <td>1046.000000</td>\n",
       "      <td>1046.000000</td>\n",
       "      <td>1046.00000</td>\n",
       "      <td>1046.000000</td>\n",
       "      <td>1046.000000</td>\n",
       "    </tr>\n",
       "    <tr>\n",
       "      <th>mean</th>\n",
       "      <td>29.881135</td>\n",
       "      <td>0.502868</td>\n",
       "      <td>0.42065</td>\n",
       "      <td>36.682839</td>\n",
       "      <td>0.923518</td>\n",
       "    </tr>\n",
       "    <tr>\n",
       "      <th>std</th>\n",
       "      <td>14.413500</td>\n",
       "      <td>0.912167</td>\n",
       "      <td>0.83975</td>\n",
       "      <td>55.705959</td>\n",
       "      <td>1.452891</td>\n",
       "    </tr>\n",
       "    <tr>\n",
       "      <th>min</th>\n",
       "      <td>0.166700</td>\n",
       "      <td>0.000000</td>\n",
       "      <td>0.00000</td>\n",
       "      <td>0.000000</td>\n",
       "      <td>0.000000</td>\n",
       "    </tr>\n",
       "    <tr>\n",
       "      <th>25%</th>\n",
       "      <td>21.000000</td>\n",
       "      <td>0.000000</td>\n",
       "      <td>0.00000</td>\n",
       "      <td>8.050000</td>\n",
       "      <td>0.000000</td>\n",
       "    </tr>\n",
       "    <tr>\n",
       "      <th>50%</th>\n",
       "      <td>28.000000</td>\n",
       "      <td>0.000000</td>\n",
       "      <td>0.00000</td>\n",
       "      <td>15.800000</td>\n",
       "      <td>0.000000</td>\n",
       "    </tr>\n",
       "    <tr>\n",
       "      <th>75%</th>\n",
       "      <td>39.000000</td>\n",
       "      <td>1.000000</td>\n",
       "      <td>1.00000</td>\n",
       "      <td>35.500000</td>\n",
       "      <td>1.000000</td>\n",
       "    </tr>\n",
       "    <tr>\n",
       "      <th>max</th>\n",
       "      <td>80.000000</td>\n",
       "      <td>8.000000</td>\n",
       "      <td>6.00000</td>\n",
       "      <td>512.329200</td>\n",
       "      <td>10.000000</td>\n",
       "    </tr>\n",
       "  </tbody>\n",
       "</table>\n",
       "</div>"
      ],
      "text/plain": [
       "               age        sibsp       parch         fare  Family Size\n",
       "count  1046.000000  1046.000000  1046.00000  1046.000000  1046.000000\n",
       "mean     29.881135     0.502868     0.42065    36.682839     0.923518\n",
       "std      14.413500     0.912167     0.83975    55.705959     1.452891\n",
       "min       0.166700     0.000000     0.00000     0.000000     0.000000\n",
       "25%      21.000000     0.000000     0.00000     8.050000     0.000000\n",
       "50%      28.000000     0.000000     0.00000    15.800000     0.000000\n",
       "75%      39.000000     1.000000     1.00000    35.500000     1.000000\n",
       "max      80.000000     8.000000     6.00000   512.329200    10.000000"
      ]
     },
     "execution_count": 53,
     "metadata": {},
     "output_type": "execute_result"
    }
   ],
   "source": [
    "df.describe()"
   ]
  },
  {
   "cell_type": "code",
   "execution_count": 54,
   "id": "aa1c10be",
   "metadata": {},
   "outputs": [
    {
     "name": "stdout",
     "output_type": "stream",
     "text": [
      "age Range: 79.8333 \n",
      "sibsp Range: 8 \n",
      "parch Range: 6 \n",
      "fare Range: 512.3292 \n",
      "Family Size Range: 10 \n"
     ]
    }
   ],
   "source": [
    "# range\n",
    "for col in  df.select_dtypes('number').columns:\n",
    "    print(f\"{col} Range: {df[col].max() - df[col].min()} \")"
   ]
  },
  {
   "cell_type": "markdown",
   "id": "9bd6de11",
   "metadata": {},
   "source": [
    "### Relationships between Variables\n",
    "\n",
    "* Determine the relationship between each variable and the variable \"survived\". This is our primary variable of interest -- did this passenger survive the accident? Did the characteristics of the passenger have any relationship with their survival?\n",
    "    * <b>pclass</b>: how many survivors are in each passenger class? does a pattern emerge? which class has the most survivors? which has the least?\n",
    "    * <b>sex</b>: how many survivors are in each variable group? does a pattern emerge? which group has the most survivors? which has the least?\n",
    "    * <b>age</b>: how does the average age of the passenger differ based on survival group? \n",
    "    * <b>age group</b>: how many survivors are in each variable group? does a pattern emerge? which group has the most survivors? which has the least?\n",
    "    * <b>family size</b>: how many survivors are in each variable group? does a pattern emerge? which group has the most survivors? which has the least?\n",
    "    * <b>travel alone</b>: how many survivors are in each variable group? does a pattern emerge? which group has the most survivors? which has the least?\n",
    "    * <b>crew</b>: how many survivors are in each variable group? does a pattern emerge? which group has the most survivors? which has the least?\n",
    "    * <b>has caregiver</b>: how many survivors are in each variable group? does a pattern emerge? which group has the most survivors? which has the least?\n",
    "    * <b>fare</b>: how does the average fare the passenger paid differ based on survival group? \n",
    "    * <b>embarked</b>: how many survivors are in each variable group? does a pattern emerge? which group has the most survivors? which has the least?\n",
    "    \n",
    "Based on what you learn working through this section, make (2) statements about what characteristics of passenger most influenced their survival."
   ]
  },
  {
   "cell_type": "code",
   "execution_count": 55,
   "id": "a61a7650",
   "metadata": {
    "scrolled": true
   },
   "outputs": [
    {
     "name": "stderr",
     "output_type": "stream",
     "text": [
      "C:\\Users\\RobSquatch\\AppData\\Local\\Temp\\ipykernel_8328\\1134722465.py:1: FutureWarning: The default value of numeric_only in DataFrame.corr is deprecated. In a future version, it will default to False. Select only valid columns or specify the value of numeric_only to silence this warning.\n",
      "  df.corr()\n"
     ]
    },
    {
     "data": {
      "text/html": [
       "<div>\n",
       "<style scoped>\n",
       "    .dataframe tbody tr th:only-of-type {\n",
       "        vertical-align: middle;\n",
       "    }\n",
       "\n",
       "    .dataframe tbody tr th {\n",
       "        vertical-align: top;\n",
       "    }\n",
       "\n",
       "    .dataframe thead th {\n",
       "        text-align: right;\n",
       "    }\n",
       "</style>\n",
       "<table border=\"1\" class=\"dataframe\">\n",
       "  <thead>\n",
       "    <tr style=\"text-align: right;\">\n",
       "      <th></th>\n",
       "      <th>age</th>\n",
       "      <th>sibsp</th>\n",
       "      <th>parch</th>\n",
       "      <th>fare</th>\n",
       "      <th>Family Size</th>\n",
       "    </tr>\n",
       "  </thead>\n",
       "  <tbody>\n",
       "    <tr>\n",
       "      <th>age</th>\n",
       "      <td>1.000000</td>\n",
       "      <td>-0.243699</td>\n",
       "      <td>-0.150917</td>\n",
       "      <td>0.178229</td>\n",
       "      <td>-0.240230</td>\n",
       "    </tr>\n",
       "    <tr>\n",
       "      <th>sibsp</th>\n",
       "      <td>-0.243699</td>\n",
       "      <td>1.000000</td>\n",
       "      <td>0.374456</td>\n",
       "      <td>0.141195</td>\n",
       "      <td>0.844260</td>\n",
       "    </tr>\n",
       "    <tr>\n",
       "      <th>parch</th>\n",
       "      <td>-0.150917</td>\n",
       "      <td>0.374456</td>\n",
       "      <td>1.000000</td>\n",
       "      <td>0.216726</td>\n",
       "      <td>0.813080</td>\n",
       "    </tr>\n",
       "    <tr>\n",
       "      <th>fare</th>\n",
       "      <td>0.178229</td>\n",
       "      <td>0.141195</td>\n",
       "      <td>0.216726</td>\n",
       "      <td>1.000000</td>\n",
       "      <td>0.213911</td>\n",
       "    </tr>\n",
       "    <tr>\n",
       "      <th>Family Size</th>\n",
       "      <td>-0.240230</td>\n",
       "      <td>0.844260</td>\n",
       "      <td>0.813080</td>\n",
       "      <td>0.213911</td>\n",
       "      <td>1.000000</td>\n",
       "    </tr>\n",
       "  </tbody>\n",
       "</table>\n",
       "</div>"
      ],
      "text/plain": [
       "                  age     sibsp     parch      fare  Family Size\n",
       "age          1.000000 -0.243699 -0.150917  0.178229    -0.240230\n",
       "sibsp       -0.243699  1.000000  0.374456  0.141195     0.844260\n",
       "parch       -0.150917  0.374456  1.000000  0.216726     0.813080\n",
       "fare         0.178229  0.141195  0.216726  1.000000     0.213911\n",
       "Family Size -0.240230  0.844260  0.813080  0.213911     1.000000"
      ]
     },
     "execution_count": 55,
     "metadata": {},
     "output_type": "execute_result"
    }
   ],
   "source": [
    "df.corr()"
   ]
  },
  {
   "cell_type": "code",
   "execution_count": 56,
   "id": "455c01fb",
   "metadata": {},
   "outputs": [],
   "source": [
    "# pclass,sex,age,age group,family size,travel alone,crew,has caregiver,fare,embarked"
   ]
  },
  {
   "cell_type": "code",
   "execution_count": 57,
   "id": "25428c6c",
   "metadata": {
    "collapsed": true
   },
   "outputs": [
    {
     "name": "stdout",
     "output_type": "stream",
     "text": [
      "** pclass **\n",
      "survived      pclass      \n",
      "not survived  third class     370\n",
      "              second class    146\n",
      "              first class     103\n",
      "survived      first class     181\n",
      "              third class     131\n",
      "              second class    115\n",
      "Name: pclass, dtype: int64 \n",
      "\n",
      "pclass normalized\n",
      "survived      pclass      \n",
      "not survived  third class     0.597738\n",
      "              second class    0.235864\n",
      "              first class     0.166397\n",
      "survived      first class     0.423888\n",
      "              third class     0.306792\n",
      "              second class    0.269321\n",
      "Name: pclass, dtype: float64 \n",
      "pclass        survived    \n",
      "first class   survived        0.637324\n",
      "              not survived    0.362676\n",
      "second class  not survived    0.559387\n",
      "              survived        0.440613\n",
      "third class   not survived    0.738523\n",
      "              survived        0.261477\n",
      "Name: survived, dtype: float64 \n",
      "\n",
      "** sex **\n",
      "survived      sex   \n",
      "not survived  male      523\n",
      "              female     96\n",
      "survived      female    292\n",
      "              male      135\n",
      "Name: sex, dtype: int64 \n",
      "\n",
      "sex normalized\n",
      "survived      sex   \n",
      "not survived  male      0.844911\n",
      "              female    0.155089\n",
      "survived      female    0.683841\n",
      "              male      0.316159\n",
      "Name: sex, dtype: float64 \n",
      "sex     survived    \n",
      "female  survived        0.752577\n",
      "        not survived    0.247423\n",
      "male    not survived    0.794833\n",
      "        survived        0.205167\n",
      "Name: survived, dtype: float64 \n",
      "\n",
      "** age **\n",
      "survived\n",
      "not survived    30.545369\n",
      "survived        28.918228\n",
      "Name: age, dtype: float64 \n",
      "\n",
      "survived      age \n",
      "not survived  21.0    30\n",
      "              18.0    25\n",
      "              24.0    25\n",
      "              30.0    25\n",
      "              28.0    24\n",
      "                      ..\n",
      "survived      32.5     1\n",
      "              36.5     1\n",
      "              59.0     1\n",
      "              76.0     1\n",
      "              80.0     1\n",
      "Name: age, Length: 159, dtype: int64 \n",
      "\n",
      "age normalized\n",
      "survived      age \n",
      "not survived  21.0    0.048465\n",
      "              18.0    0.040388\n",
      "              24.0    0.040388\n",
      "              30.0    0.040388\n",
      "              28.0    0.038772\n",
      "                        ...   \n",
      "survived      32.5    0.002342\n",
      "              36.5    0.002342\n",
      "              59.0    0.002342\n",
      "              76.0    0.002342\n",
      "              80.0    0.002342\n",
      "Name: age, Length: 159, dtype: float64 \n",
      "age      survived    \n",
      "0.1667   survived        1.000000\n",
      "0.3333   not survived    1.000000\n",
      "0.4167   survived        1.000000\n",
      "0.6667   survived        1.000000\n",
      "0.7500   survived        0.666667\n",
      "                           ...   \n",
      "70.5000  not survived    1.000000\n",
      "71.0000  not survived    1.000000\n",
      "74.0000  not survived    1.000000\n",
      "76.0000  survived        1.000000\n",
      "80.0000  survived        1.000000\n",
      "Name: survived, Length: 159, dtype: float64 \n",
      "\n",
      "** Age Group **\n",
      "survived      Age Group\n",
      "not survived  adult        513\n",
      "              teen          58\n",
      "              child         27\n",
      "              infant        13\n",
      "              senior         8\n",
      "survived      adult        330\n",
      "              teen          41\n",
      "              child         33\n",
      "              infant        21\n",
      "              senior         2\n",
      "Name: Age Group, dtype: int64 \n",
      "\n",
      "Age Group normalized\n",
      "survived      Age Group\n",
      "not survived  adult        0.828756\n",
      "              teen         0.093700\n",
      "              child        0.043619\n",
      "              infant       0.021002\n",
      "              senior       0.012924\n",
      "survived      adult        0.772834\n",
      "              teen         0.096019\n",
      "              child        0.077283\n",
      "              infant       0.049180\n",
      "              senior       0.004684\n",
      "Name: Age Group, dtype: float64 \n",
      "Age Group  survived    \n",
      "infant     survived        0.617647\n",
      "           not survived    0.382353\n",
      "child      survived        0.550000\n",
      "           not survived    0.450000\n",
      "teen       not survived    0.585859\n",
      "           survived        0.414141\n",
      "adult      not survived    0.608541\n",
      "           survived        0.391459\n",
      "senior     not survived    0.800000\n",
      "           survived        0.200000\n",
      "Name: survived, dtype: float64 \n",
      "\n",
      "** Family Size **\n",
      "survived\n",
      "not survived    0.852989\n",
      "survived        1.025761\n",
      "Name: Family Size, dtype: float64 \n",
      "\n",
      "survived      Family Size\n",
      "not survived  0              402\n",
      "              1               93\n",
      "              2               63\n",
      "              5               20\n",
      "              6               12\n",
      "              4               11\n",
      "              3                9\n",
      "              7                8\n",
      "              10               1\n",
      "survived      0              188\n",
      "              1              113\n",
      "              2               81\n",
      "              3               30\n",
      "              4                6\n",
      "              5                5\n",
      "              6                4\n",
      "Name: Family Size, dtype: int64 \n",
      "\n",
      "Family Size normalized\n",
      "survived      Family Size\n",
      "not survived  0              0.649435\n",
      "              1              0.150242\n",
      "              2              0.101777\n",
      "              5              0.032310\n",
      "              6              0.019386\n",
      "              4              0.017771\n",
      "              3              0.014540\n",
      "              7              0.012924\n",
      "              10             0.001616\n",
      "survived      0              0.440281\n",
      "              1              0.264637\n",
      "              2              0.189696\n",
      "              3              0.070258\n",
      "              4              0.014052\n",
      "              5              0.011710\n",
      "              6              0.009368\n",
      "Name: Family Size, dtype: float64 \n",
      "Family Size  survived    \n",
      "0            not survived    0.681356\n",
      "             survived        0.318644\n",
      "1            survived        0.548544\n",
      "             not survived    0.451456\n",
      "2            survived        0.562500\n",
      "             not survived    0.437500\n",
      "3            survived        0.769231\n",
      "             not survived    0.230769\n",
      "4            not survived    0.647059\n",
      "             survived        0.352941\n",
      "5            not survived    0.800000\n",
      "             survived        0.200000\n",
      "6            not survived    0.750000\n",
      "             survived        0.250000\n",
      "7            not survived    1.000000\n",
      "10           not survived    1.000000\n",
      "Name: survived, dtype: float64 \n",
      "\n",
      "** Travel Alone **\n",
      "survived      Travel Alone\n",
      "not survived  yes             402\n",
      "              no              217\n",
      "survived      no              239\n",
      "              yes             188\n",
      "Name: Travel Alone, dtype: int64 \n",
      "\n",
      "Travel Alone normalized\n",
      "survived      Travel Alone\n",
      "not survived  yes             0.649435\n",
      "              no              0.350565\n",
      "survived      no              0.559719\n",
      "              yes             0.440281\n",
      "Name: Travel Alone, dtype: float64 \n",
      "Travel Alone  survived    \n",
      "no            survived        0.524123\n",
      "              not survived    0.475877\n",
      "yes           not survived    0.681356\n",
      "              survived        0.318644\n",
      "Name: survived, dtype: float64 \n",
      "\n",
      "** Crew **\n",
      "survived      Crew\n",
      "not survived  no      613\n",
      "              yes       6\n",
      "survived      no      425\n",
      "              yes       2\n",
      "Name: Crew, dtype: int64 \n",
      "\n",
      "Crew normalized\n",
      "survived      Crew\n",
      "not survived  no      0.990307\n",
      "              yes     0.009693\n",
      "survived      no      0.995316\n",
      "              yes     0.004684\n",
      "Name: Crew, dtype: float64 \n",
      "Crew  survived    \n",
      "no    not survived    0.590559\n",
      "      survived        0.409441\n",
      "yes   not survived    0.750000\n",
      "      survived        0.250000\n",
      "Name: survived, dtype: float64 \n",
      "\n",
      "** Has Caregiver **\n",
      "survived      Has Caregiver\n",
      "not survived  no               580\n",
      "              yes               39\n",
      "survived      no               375\n",
      "              yes               52\n",
      "Name: Has Caregiver, dtype: int64 \n",
      "\n",
      "Has Caregiver normalized\n",
      "survived      Has Caregiver\n",
      "not survived  no               0.936995\n",
      "              yes              0.063005\n",
      "survived      no               0.878220\n",
      "              yes              0.121780\n",
      "Name: Has Caregiver, dtype: float64 \n",
      "Has Caregiver  survived    \n",
      "no             not survived    0.607330\n",
      "               survived        0.392670\n",
      "yes            survived        0.571429\n",
      "               not survived    0.428571\n",
      "Name: survived, dtype: float64 \n",
      "\n",
      "** fare **\n",
      "survived\n",
      "not survived    25.161913\n",
      "survived        53.384134\n",
      "Name: fare, dtype: float64 \n",
      "\n",
      "survived      fare    \n",
      "not survived  13.0000     42\n",
      "              8.0500      31\n",
      "              26.0000     30\n",
      "              7.8958      29\n",
      "              10.5000     23\n",
      "                          ..\n",
      "survived      89.1042      1\n",
      "              133.6500     1\n",
      "              136.7792     1\n",
      "              146.5208     1\n",
      "              221.7792     1\n",
      "Name: fare, Length: 354, dtype: int64 \n",
      "\n",
      "fare normalized\n",
      "survived      fare    \n",
      "not survived  13.0000     0.067851\n",
      "              8.0500      0.050081\n",
      "              26.0000     0.048465\n",
      "              7.8958      0.046850\n",
      "              10.5000     0.037157\n",
      "                            ...   \n",
      "survived      89.1042     0.002342\n",
      "              133.6500    0.002342\n",
      "              136.7792    0.002342\n",
      "              146.5208    0.002342\n",
      "              221.7792    0.002342\n",
      "Name: fare, Length: 354, dtype: float64 \n",
      "fare      survived    \n",
      "0.0000    not survived    0.750000\n",
      "          survived        0.250000\n",
      "3.1708    survived        1.000000\n",
      "4.0125    not survived    1.000000\n",
      "5.0000    not survived    1.000000\n",
      "                            ...   \n",
      "262.3750  survived        0.857143\n",
      "          not survived    0.142857\n",
      "263.0000  survived        0.666667\n",
      "          not survived    0.333333\n",
      "512.3292  survived        1.000000\n",
      "Name: survived, Length: 354, dtype: float64 \n",
      "\n",
      "** embarked **\n",
      "survived      embarked   \n",
      "not survived  Southampton    502\n",
      "              Cherbourg       80\n",
      "              Queenstown      37\n",
      "survived      Southampton    282\n",
      "              Cherbourg      132\n",
      "              Queenstown      13\n",
      "Name: embarked, dtype: int64 \n",
      "\n",
      "embarked normalized\n",
      "survived      embarked   \n",
      "not survived  Southampton    0.810985\n",
      "              Cherbourg      0.129241\n",
      "              Queenstown     0.059774\n",
      "survived      Southampton    0.660422\n",
      "              Cherbourg      0.309133\n",
      "              Queenstown     0.030445\n",
      "Name: embarked, dtype: float64 \n",
      "embarked     survived    \n",
      "Cherbourg    survived        0.622642\n",
      "             not survived    0.377358\n",
      "Queenstown   not survived    0.740000\n",
      "             survived        0.260000\n",
      "Southampton  not survived    0.640306\n",
      "             survived        0.359694\n",
      "Name: survived, dtype: float64 \n",
      "\n"
     ]
    }
   ],
   "source": [
    "columns = [\"pclass\",\"sex\",\"age\",\"Age Group\",\"Family Size\",\"Travel Alone\",\"Crew\",\"Has Caregiver\",\"fare\",\"embarked\"]\n",
    "\n",
    "for col in  columns:\n",
    "    print(\"**\",col,\"**\")\n",
    "    if col in df.select_dtypes('number').columns:\n",
    "        print(f\"{df[col].groupby(df['survived']).mean()} \" )\n",
    "        print()\n",
    "    print(f\"{df[col].groupby(df['survived']).value_counts()} \" )\n",
    "    print()\n",
    "    print(f\"{col} normalized\")\n",
    "    print(f\"{df[col].groupby(df['survived']).value_counts(normalize=True)} \" )\n",
    "    print(f\"{df['survived'].groupby(df[col]).value_counts(normalize=True)} \" )\n",
    "    print()"
   ]
  },
  {
   "cell_type": "code",
   "execution_count": 93,
   "id": "1367fa1b",
   "metadata": {
    "scrolled": false
   },
   "outputs": [
    {
     "name": "stdout",
     "output_type": "stream",
     "text": [
      "pclass        first class  second class  third class   All\n",
      "survived                                                  \n",
      "not survived          103           146          370   619\n",
      "survived              181           115          131   427\n",
      "All                   284           261          501  1046\n",
      "\n",
      "sex           female  male   All\n",
      "survived                        \n",
      "not survived      96   523   619\n",
      "survived         292   135   427\n",
      "All              388   658  1046\n",
      "\n",
      "age           0.1667  0.3333  0.4167  0.6667  0.75  0.8333  0.9167  1.0  2.0  \\\n",
      "survived                                                                       \n",
      "not survived       0       1       0       0     1       0       0    3    8   \n",
      "survived           1       0       1       1     2       3       2    7    4   \n",
      "All                1       1       1       1     3       3       2   10   12   \n",
      "\n",
      "age           3.0  ...  65.0  66.0  67.0  70.0  70.5  71.0  74.0  76.0  80.0  \\\n",
      "survived           ...                                                         \n",
      "not survived    2  ...     3     1     1     2     1     2     1     0     0   \n",
      "survived        5  ...     0     0     0     0     0     0     0     1     1   \n",
      "All             7  ...     3     1     1     2     1     2     1     1     1   \n",
      "\n",
      "age            All  \n",
      "survived            \n",
      "not survived   619  \n",
      "survived       427  \n",
      "All           1046  \n",
      "\n",
      "[3 rows x 99 columns]\n",
      "\n",
      "Age Group     infant  child  teen  adult  senior   All\n",
      "survived                                              \n",
      "not survived      13     27    58    513       8   619\n",
      "survived          21     33    41    330       2   427\n",
      "All               34     60    99    843      10  1046\n",
      "\n",
      "Family Size     0    1    2   3   4   5   6  7  10   All\n",
      "survived                                                \n",
      "not survived  402   93   63   9  11  20  12  8   1   619\n",
      "survived      188  113   81  30   6   5   4  0   0   427\n",
      "All           590  206  144  39  17  25  16  8   1  1046\n",
      "\n",
      "Travel Alone   no  yes   All\n",
      "survived                    \n",
      "not survived  217  402   619\n",
      "survived      239  188   427\n",
      "All           456  590  1046\n",
      "\n",
      "Crew            no  yes   All\n",
      "survived                     \n",
      "not survived   613    6   619\n",
      "survived       425    2   427\n",
      "All           1038    8  1046\n",
      "\n",
      "Has Caregiver   no  yes   All\n",
      "survived                     \n",
      "not survived   580   39   619\n",
      "survived       375   52   427\n",
      "All            955   91  1046\n",
      "\n",
      "fare          0.0  3.1708  4.0125  5.0  6.2375  6.4375  6.45  6.4958  6.75  \\\n",
      "survived                                                                     \n",
      "not survived    6       0       1    1       1       1     1       3     2   \n",
      "survived        2       1       0    0       0       0     0       0     0   \n",
      "All             8       1       1    1       1       1     1       3     2   \n",
      "\n",
      "fare          6.95  ...  164.8667  211.3375  211.5  221.7792  227.525  \\\n",
      "survived            ...                                                 \n",
      "not survived     0  ...         1         0      3         2        1   \n",
      "survived         1  ...         3         4      2         1        3   \n",
      "All              1  ...         4         4      5         3        4   \n",
      "\n",
      "fare          247.5208  262.375  263.0  512.3292   All  \n",
      "survived                                                \n",
      "not survived         1        1      2         0   619  \n",
      "survived             2        6      4         4   427  \n",
      "All                  3        7      6         4  1046  \n",
      "\n",
      "[3 rows x 258 columns]\n",
      "\n",
      "embarked      Cherbourg  Queenstown  Southampton   All\n",
      "survived                                              \n",
      "not survived         80          37          502   619\n",
      "survived            132          13          282   427\n",
      "All                 212          50          784  1046\n",
      "\n"
     ]
    }
   ],
   "source": [
    "\n",
    "for col in  columns: \n",
    "    print(f\"{pd.crosstab(df['survived'], df[col], margins = True, normalize = False)}\")\n",
    "    print()"
   ]
  },
  {
   "cell_type": "code",
   "execution_count": null,
   "id": "a51f4196",
   "metadata": {},
   "outputs": [],
   "source": []
  },
  {
   "cell_type": "code",
   "execution_count": 99,
   "id": "603c1f15",
   "metadata": {},
   "outputs": [],
   "source": [
    "# pclass: how many survivors are in each passenger class? does a pattern emerge? \n",
    "# which class has the most survivors? which has the least?\n",
    "\n",
    "# The lower the passenger class had more passengers not survive in total,while first class has the least. \n",
    "# When looking at normalized survival rates, the third class had the highest percent of not surviving and\n",
    "# first class had the highest rate of survival\n",
    "\n",
    "# pclass        first class  second class  third class   All\n",
    "# survived                                                  \n",
    "# not survived          103           146          370   619\n",
    "# survived              181           115          131   427\n",
    "# All                   284           261          501  1046\n",
    "\n",
    "\n",
    "# pclass normalized\n",
    "# survived      pclass      \n",
    "# not survived  third class     0.597738\n",
    "#               second class    0.235864\n",
    "#               first class     0.166397\n",
    "# survived      first class     0.423888\n",
    "#               third class     0.306792\n",
    "#               second class    0.269321\n",
    "\n",
    "\n",
    "# pclass        survived    \n",
    "# first class   survived        0.637324\n",
    "#               not survived    0.362676\n",
    "# second class  not survived    0.559387\n",
    "#               survived        0.440613\n",
    "# third class   not survived    0.738523\n",
    "#               survived        0.261477\n"
   ]
  },
  {
   "cell_type": "code",
   "execution_count": 100,
   "id": "3d90b2fc",
   "metadata": {},
   "outputs": [],
   "source": [
    "#     sex: how many survivors are in each variable group? does a pattern emerge? which group has the most survivors? which has the least?\n",
    "\n",
    "# Woman had a much higher survival rate than men\n",
    "\n",
    "# sex           female  male   All\n",
    "# survived                        \n",
    "# not survived      96   523   619\n",
    "# survived         292   135   427\n",
    "# All              388   658  1046\n",
    "\n",
    "# sex normalized\n",
    "# survived      sex   \n",
    "# not survived  male      0.844911\n",
    "#               female    0.155089\n",
    "# survived      female    0.683841\n",
    "#               male      0.316159\n",
    "\n",
    "\n",
    "# sex     survived    \n",
    "# female  survived        0.752577\n",
    "#         not survived    0.247423\n",
    "# male    not survived    0.794833\n",
    "#         survived        0.205167\n"
   ]
  },
  {
   "cell_type": "code",
   "execution_count": 60,
   "id": "6b56333d",
   "metadata": {},
   "outputs": [],
   "source": [
    "#  age: how does the average age of the passenger differ based on survival group?\n",
    "\n",
    "# The age of survivors is slightly higher than not surviving.  \n",
    "\n",
    "# age            All  \n",
    "# survived            \n",
    "# not survived   619  \n",
    "# survived       427  \n",
    "# All           1046\n",
    "\n",
    "# ** age **\n",
    "# survived\n",
    "# not survived    30.545369\n",
    "# survived        28.918228\n"
   ]
  },
  {
   "cell_type": "code",
   "execution_count": 61,
   "id": "2040e126",
   "metadata": {},
   "outputs": [],
   "source": [
    "#  age group: how many survivors are in each variable group? does a pattern emerge? which group has the most survivors? which has the least?\n",
    "\n",
    "# Infants,children, teens, and adults had the same rates of survival. Seniors had the highest rate of survival. \n",
    "\n",
    "# Age Group     infant  child  teen  adult  senior   All\n",
    "# survived                                              \n",
    "# not survived      13     27    58    513       8   619\n",
    "# survived          21     33    41    330       2   427\n",
    "# All               34     60    99    843      10  1046\n",
    "\n",
    "# Age Group normalized\n",
    "# survived      Age Group\n",
    "# not survived  adult        0.828756\n",
    "#               teen         0.093700\n",
    "#               child        0.043619\n",
    "#               infant       0.021002\n",
    "#               senior       0.012924\n",
    "# survived      adult        0.772834\n",
    "#               teen         0.096019\n",
    "#               child        0.077283\n",
    "#               infant       0.049180\n",
    "#               senior       0.004684\n",
    "\n",
    "\n",
    "# Age Group  survived    \n",
    "# infant     survived        0.617647\n",
    "#            not survived    0.382353\n",
    "# child      survived        0.550000\n",
    "#            not survived    0.450000\n",
    "# teen       not survived    0.585859\n",
    "#            survived        0.414141\n",
    "# adult      not survived    0.608541\n",
    "#            survived        0.391459\n",
    "# senior     not survived    0.800000\n",
    "#            survived        0.200000\n"
   ]
  },
  {
   "cell_type": "code",
   "execution_count": 103,
   "id": "09c2e03f",
   "metadata": {},
   "outputs": [],
   "source": [
    "#     family size: how many survivors are in each variable group? does a pattern emerge? which group has the most survivors? which has the least?\n",
    "\n",
    "# The larger the family size, the higher the survival rate.  Passengers with no family had the highest non survival rate.\n",
    "# \n",
    "\n",
    "# Family Size     0    1    2   3   4   5   6  7  10   All\n",
    "# survived                                                \n",
    "# not survived  402   93   63   9  11  20  12  8   1   619\n",
    "# survived      188  113   81  30   6   5   4  0   0   427\n",
    "# All           590  206  144  39  17  25  16  8   1  1046\n",
    "\n",
    "# Family Size normalized\n",
    "# survived      Family Size\n",
    "# not survived  0              0.649435\n",
    "#               1              0.150242\n",
    "#               2              0.101777\n",
    "#               5              0.032310\n",
    "#               6              0.019386\n",
    "#               4              0.017771\n",
    "#               3              0.014540\n",
    "#               7              0.012924\n",
    "#               10             0.001616\n",
    "# survived      0              0.440281\n",
    "#               1              0.264637\n",
    "#               2              0.189696\n",
    "#               3              0.070258\n",
    "#               4              0.014052\n",
    "#               5              0.011710\n",
    "#               6              0.009368\n",
    "\n",
    "# ** Family Size **\n",
    "# survived\n",
    "# not survived    0.852989\n",
    "# survived        1.025761\n",
    "\n",
    "\n",
    "\n"
   ]
  },
  {
   "cell_type": "code",
   "execution_count": 63,
   "id": "191ea47f",
   "metadata": {},
   "outputs": [],
   "source": [
    "#     travel alone: how many survivors are in each variable group? does a pattern emerge? which group has the most survivors? which has the least?\n",
    "\n",
    "# Passengers traveling alone had a lower survival rate of  31.9 percent.\n",
    "# Passengers not traveling alone had a higher survival rate of 44 percent.\n",
    "# \n",
    "\n",
    "# Travel Alone   no  yes   All\n",
    "# survived                    \n",
    "# not survived  217  402   619\n",
    "# survived      239  188   427\n",
    "# All           456  590  1046\n",
    "\n",
    "# Travel Alone normalized\n",
    "# survived      Travel Alone\n",
    "# not survived  yes             0.649435\n",
    "#               no              0.350565\n",
    "# survived      no              0.559719\n",
    "#               yes             0.440281\n",
    "\n",
    "\n",
    "# Travel Alone  survived    \n",
    "# no            survived        0.524123\n",
    "#               not survived    0.475877\n",
    "# yes           not survived    0.681356\n",
    "#               survived        0.318644\n"
   ]
  },
  {
   "cell_type": "code",
   "execution_count": 64,
   "id": "641336a6",
   "metadata": {},
   "outputs": [],
   "source": [
    "#     crew: how many survivors are in each variable group? does a pattern emerge? which group has the most survivors? which has the least?\n",
    "\n",
    "# Crew members had a lower survival  rate than passengers.\n",
    "\n",
    "# Crew            no  yes   All\n",
    "# survived                     \n",
    "# not survived   613    6   619\n",
    "# survived       425    2   427\n",
    "# All           1038    8  1046\n",
    "\n",
    "# Crew normalized\n",
    "# survived      Crew\n",
    "# not survived  no      0.990307\n",
    "#               yes     0.009693\n",
    "# survived      no      0.995316\n",
    "#               yes     0.004684\n",
    "\n",
    "\n",
    "# Crew  survived    \n",
    "# no    not survived    0.590559\n",
    "#       survived        0.409441\n",
    "# yes   not survived    0.750000\n",
    "#       survived        0.250000\n"
   ]
  },
  {
   "cell_type": "code",
   "execution_count": 65,
   "id": "cb8945be",
   "metadata": {},
   "outputs": [],
   "source": [
    "#     has caregiver: how many survivors are in each variable group? does a pattern emerge? which group has the most survivors? which has the least?\n",
    "\n",
    "#  The survival rates for those with a caregiver was similar to those without\n",
    "\n",
    "# Has Caregiver   no  yes   All\n",
    "# survived                     \n",
    "# not survived   580   39   619\n",
    "# survived       375   52   427\n",
    "# All            955   91  1046\n",
    "\n",
    "# Has Caregiver normalized\n",
    "# survived      Has Caregiver\n",
    "# not survived  no               0.936995\n",
    "#               yes              0.063005\n",
    "# survived      no               0.878220\n",
    "#               yes              0.121780 \n",
    "\n",
    "# Has Caregiver  survived    \n",
    "# no             not survived    0.607330\n",
    "#                survived        0.392670\n",
    "# yes            survived        0.571429\n",
    "#                not survived    0.428571\n"
   ]
  },
  {
   "cell_type": "code",
   "execution_count": 66,
   "id": "52c61d8e",
   "metadata": {},
   "outputs": [],
   "source": [
    "#     fare: how does the average fare the passenger paid differ based on survival group?\n",
    "\n",
    "# Survivors had a mean fare higer than those who did not survive.  This mathces with the higher survival rate of higher pclass\n",
    "\n",
    "# ** fare **\n",
    "# survived\n",
    "# not survived    25.161913\n",
    "# survived        53.384134\n",
    "\n",
    "# print(f\"{df['fare'].groupby(df['pclass']).mean()}\" )\n",
    "# pclass\n",
    "# first class     92.229358\n",
    "# second class    21.855044\n",
    "# third class     12.920050\n"
   ]
  },
  {
   "cell_type": "code",
   "execution_count": 104,
   "id": "908740c8",
   "metadata": {},
   "outputs": [],
   "source": [
    "#     embarked: how many survivors are in each variable group? does a pattern emerge? which group has the most survivors? which has the least?\n",
    "\n",
    "# Passengers embarking from Queenstown had the lowest rate of survival.\n",
    "# Passengers from Cherbourg had the highest rate of survival\n",
    "\n",
    "# embarked      Cherbourg  Queenstown  Southampton   All\n",
    "# survived                                              \n",
    "# not survived         80          37          502   619\n",
    "# survived            132          13          282   427\n",
    "# All                 212          50          784  1046\n",
    "\n",
    "\n",
    "# embarked normalized\n",
    "# survived      embarked   \n",
    "# not survived  Southampton    0.810985\n",
    "#               Cherbourg      0.129241\n",
    "#               Queenstown     0.059774\n",
    "# survived      Southampton    0.660422\n",
    "#               Cherbourg      0.309133\n",
    "#               Queenstown     0.030445\n",
    "\n",
    "# embarked     survived    \n",
    "# Cherbourg    survived        0.622642\n",
    "#              not survived    0.377358\n",
    "# Queenstown   not survived    0.740000\n",
    "#              survived        0.260000\n",
    "# Southampton  not survived    0.640306\n",
    "#              survived        0.359694\n"
   ]
  },
  {
   "cell_type": "markdown",
   "id": "43e999a3",
   "metadata": {},
   "source": [
    "### Visualize your Results\n",
    "\n",
    "* Using the most interesting (from your POV) results from the above section, create (3) visualizations to illustrate the results. \n",
    "* Create a barplot to show the variation in average age across passenger class. On average, which passenger class has the oldest passengers?\n",
    "* Create a violin plot to show the distribution of age across passenger class. "
   ]
  },
  {
   "cell_type": "code",
   "execution_count": 76,
   "id": "ff9db888",
   "metadata": {
    "scrolled": false
   },
   "outputs": [
    {
     "data": {
      "text/plain": [
       "<Axes: xlabel='survived', ylabel='count'>"
      ]
     },
     "execution_count": 76,
     "metadata": {},
     "output_type": "execute_result"
    },
    {
     "data": {
      "image/png": "[encoded data removed]",
      "text/plain": [
       "<Figure size 640x480 with 1 Axes>"
      ]
     },
     "metadata": {},
     "output_type": "display_data"
    }
   ],
   "source": [
    "sns.countplot(data=df,x=\"survived\",hue=\"pclass\")"
   ]
  },
  {
   "cell_type": "code",
   "execution_count": null,
   "id": "a41f7056",
   "metadata": {},
   "outputs": [],
   "source": []
  },
  {
   "cell_type": "code",
   "execution_count": 75,
   "id": "004490d5",
   "metadata": {
    "scrolled": true
   },
   "outputs": [
    {
     "data": {
      "text/plain": [
       "<Axes: xlabel='pclass', ylabel='count'>"
      ]
     },
     "execution_count": 75,
     "metadata": {},
     "output_type": "execute_result"
    },
    {
     "data": {
      "image/png": "[encoded data removed]",
      "text/plain": [
       "<Figure size 640x480 with 1 Axes>"
      ]
     },
     "metadata": {},
     "output_type": "display_data"
    }
   ],
   "source": [
    "sns.countplot(data=df,x=\"pclass\",hue=\"survived\")"
   ]
  },
  {
   "cell_type": "code",
   "execution_count": null,
   "id": "0b7dc609",
   "metadata": {},
   "outputs": [],
   "source": []
  },
  {
   "cell_type": "code",
   "execution_count": 94,
   "id": "e4d1aace",
   "metadata": {
    "scrolled": false
   },
   "outputs": [
    {
     "data": {
      "text/plain": [
       "<Axes: xlabel='Family Size', ylabel='count'>"
      ]
     },
     "execution_count": 94,
     "metadata": {},
     "output_type": "execute_result"
    },
    {
     "data": {
      "image/png": "[encoded data removed]",
      "text/plain": [
       "<Figure size 640x480 with 1 Axes>"
      ]
     },
     "metadata": {},
     "output_type": "display_data"
    }
   ],
   "source": [
    "sns.countplot(data=df,x=\"Family Size\",hue=\"survived\")"
   ]
  },
  {
   "cell_type": "code",
   "execution_count": 101,
   "id": "2a7c3933",
   "metadata": {},
   "outputs": [
    {
     "data": {
      "text/plain": [
       "<Axes: xlabel='Age Group', ylabel='count'>"
      ]
     },
     "execution_count": 101,
     "metadata": {},
     "output_type": "execute_result"
    },
    {
     "data": {
      "image/png": "[encoded data removed]",
      "text/plain": [
       "<Figure size 640x480 with 1 Axes>"
      ]
     },
     "metadata": {},
     "output_type": "display_data"
    }
   ],
   "source": [
    "sns.countplot(data=df,x=\"Age Group\",hue=\"survived\")"
   ]
  },
  {
   "cell_type": "code",
   "execution_count": 96,
   "id": "10c87fac",
   "metadata": {},
   "outputs": [
    {
     "data": {
      "text/plain": [
       "<Axes: xlabel='embarked', ylabel='count'>"
      ]
     },
     "execution_count": 96,
     "metadata": {},
     "output_type": "execute_result"
    },
    {
     "data": {
      "image/png": "[encoded data removed]",
      "text/plain": [
       "<Figure size 640x480 with 1 Axes>"
      ]
     },
     "metadata": {},
     "output_type": "display_data"
    }
   ],
   "source": [
    "sns.countplot(data=df,x=\"embarked\",hue=\"survived\")"
   ]
  },
  {
   "cell_type": "code",
   "execution_count": 98,
   "id": "8b95a934",
   "metadata": {},
   "outputs": [
    {
     "data": {
      "image/png": "[encoded data removed]",
      "text/plain": [
       "<Figure size 640x480 with 1 Axes>"
      ]
     },
     "metadata": {},
     "output_type": "display_data"
    }
   ],
   "source": [
    "### creating a simple barplot to show the average age  across each pclass\n",
    "sns.barplot(data = df, x = \"pclass\", y = \"age\", errorbar = None)\n",
    "plt.title('Age Statistic by Passenger Class')\n",
    "plt.grid()"
   ]
  },
  {
   "cell_type": "code",
   "execution_count": 69,
   "id": "ad364c68",
   "metadata": {},
   "outputs": [
    {
     "data": {
      "image/png": "[encoded data removed]",
      "text/plain": [
       "<Figure size 1500x500 with 1 Axes>"
      ]
     },
     "metadata": {},
     "output_type": "display_data"
    }
   ],
   "source": [
    "### Create a violin plot to show the distribution of age across passenger class. \n",
    "plt.figure(figsize=(15,5))\n",
    "sns.violinplot(x = df[\"pclass\"], y = df[\"age\"])\n",
    "plt.grid()"
   ]
  }
 ],
 "metadata": {
  "kernelspec": {
   "display_name": "Python 3 (ipykernel)",
   "language": "python",
   "name": "python3"
  },
  "language_info": {
   "codemirror_mode": {
    "name": "ipython",
    "version": 3
   },
   "file_extension": ".py",
   "mimetype": "text/x-python",
   "name": "python",
   "nbconvert_exporter": "python",
   "pygments_lexer": "ipython3",
   "version": "3.10.9"
  }
 },
 "nbformat": 4,
 "nbformat_minor": 5
}
